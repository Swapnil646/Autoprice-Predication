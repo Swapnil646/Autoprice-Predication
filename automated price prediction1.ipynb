{
 "cells": [
  {
   "cell_type": "markdown",
   "id": "647ee387",
   "metadata": {},
   "source": [
    "# To predict the price of cars with the available independent variables"
   ]
  },
  {
   "cell_type": "code",
   "execution_count": 1,
   "id": "b58485e1",
   "metadata": {},
   "outputs": [],
   "source": [
    "# importing libraries\n",
    "import numpy as np\n",
    "import pandas as pd\n",
    "import seaborn as sns\n",
    "import matplotlib.pyplot as plt\n",
    "import warnings\n",
    "warnings.filterwarnings('ignore')"
   ]
  },
  {
   "cell_type": "code",
   "execution_count": 2,
   "id": "09b5df1a",
   "metadata": {},
   "outputs": [],
   "source": [
    "# importing dataset\n",
    "colnames = [ 'symboling','normalized_losses','make','fuel_type','aspiration','num_of_doors','body_style','drive_wheels','engine_location','wheel_base','length','width','height','curb_weight','engine_type','num_of_cylinders','engine_size','fuel_system','bore','stroke','compression_ratio','horsepower','peak_rpm','cit_mpg','highway_mpg','price']\n",
    "data = pd.read_csv(\"auto_imports.csv\", names=colnames)"
   ]
  },
  {
   "cell_type": "code",
   "execution_count": 3,
   "id": "61005de6",
   "metadata": {},
   "outputs": [
    {
     "data": {
      "text/html": [
       "<div>\n",
       "<style scoped>\n",
       "    .dataframe tbody tr th:only-of-type {\n",
       "        vertical-align: middle;\n",
       "    }\n",
       "\n",
       "    .dataframe tbody tr th {\n",
       "        vertical-align: top;\n",
       "    }\n",
       "\n",
       "    .dataframe thead th {\n",
       "        text-align: right;\n",
       "    }\n",
       "</style>\n",
       "<table border=\"1\" class=\"dataframe\">\n",
       "  <thead>\n",
       "    <tr style=\"text-align: right;\">\n",
       "      <th></th>\n",
       "      <th>symboling</th>\n",
       "      <th>normalized_losses</th>\n",
       "      <th>make</th>\n",
       "      <th>fuel_type</th>\n",
       "      <th>aspiration</th>\n",
       "      <th>num_of_doors</th>\n",
       "      <th>body_style</th>\n",
       "      <th>drive_wheels</th>\n",
       "      <th>engine_location</th>\n",
       "      <th>wheel_base</th>\n",
       "      <th>...</th>\n",
       "      <th>engine_size</th>\n",
       "      <th>fuel_system</th>\n",
       "      <th>bore</th>\n",
       "      <th>stroke</th>\n",
       "      <th>compression_ratio</th>\n",
       "      <th>horsepower</th>\n",
       "      <th>peak_rpm</th>\n",
       "      <th>cit_mpg</th>\n",
       "      <th>highway_mpg</th>\n",
       "      <th>price</th>\n",
       "    </tr>\n",
       "  </thead>\n",
       "  <tbody>\n",
       "    <tr>\n",
       "      <th>0</th>\n",
       "      <td>3</td>\n",
       "      <td>?</td>\n",
       "      <td>alfa-romero</td>\n",
       "      <td>gas</td>\n",
       "      <td>std</td>\n",
       "      <td>two</td>\n",
       "      <td>convertible</td>\n",
       "      <td>rwd</td>\n",
       "      <td>front</td>\n",
       "      <td>88.6</td>\n",
       "      <td>...</td>\n",
       "      <td>130</td>\n",
       "      <td>mpfi</td>\n",
       "      <td>3.47</td>\n",
       "      <td>2.68</td>\n",
       "      <td>9.0</td>\n",
       "      <td>111</td>\n",
       "      <td>5000</td>\n",
       "      <td>21</td>\n",
       "      <td>27</td>\n",
       "      <td>13495</td>\n",
       "    </tr>\n",
       "    <tr>\n",
       "      <th>1</th>\n",
       "      <td>3</td>\n",
       "      <td>?</td>\n",
       "      <td>alfa-romero</td>\n",
       "      <td>gas</td>\n",
       "      <td>std</td>\n",
       "      <td>two</td>\n",
       "      <td>convertible</td>\n",
       "      <td>rwd</td>\n",
       "      <td>front</td>\n",
       "      <td>88.6</td>\n",
       "      <td>...</td>\n",
       "      <td>130</td>\n",
       "      <td>mpfi</td>\n",
       "      <td>3.47</td>\n",
       "      <td>2.68</td>\n",
       "      <td>9.0</td>\n",
       "      <td>111</td>\n",
       "      <td>5000</td>\n",
       "      <td>21</td>\n",
       "      <td>27</td>\n",
       "      <td>16500</td>\n",
       "    </tr>\n",
       "    <tr>\n",
       "      <th>2</th>\n",
       "      <td>1</td>\n",
       "      <td>?</td>\n",
       "      <td>alfa-romero</td>\n",
       "      <td>gas</td>\n",
       "      <td>std</td>\n",
       "      <td>two</td>\n",
       "      <td>hatchback</td>\n",
       "      <td>rwd</td>\n",
       "      <td>front</td>\n",
       "      <td>94.5</td>\n",
       "      <td>...</td>\n",
       "      <td>152</td>\n",
       "      <td>mpfi</td>\n",
       "      <td>2.68</td>\n",
       "      <td>3.47</td>\n",
       "      <td>9.0</td>\n",
       "      <td>154</td>\n",
       "      <td>5000</td>\n",
       "      <td>19</td>\n",
       "      <td>26</td>\n",
       "      <td>16500</td>\n",
       "    </tr>\n",
       "    <tr>\n",
       "      <th>3</th>\n",
       "      <td>2</td>\n",
       "      <td>164</td>\n",
       "      <td>audi</td>\n",
       "      <td>gas</td>\n",
       "      <td>std</td>\n",
       "      <td>four</td>\n",
       "      <td>sedan</td>\n",
       "      <td>fwd</td>\n",
       "      <td>front</td>\n",
       "      <td>99.8</td>\n",
       "      <td>...</td>\n",
       "      <td>109</td>\n",
       "      <td>mpfi</td>\n",
       "      <td>3.19</td>\n",
       "      <td>3.40</td>\n",
       "      <td>10.0</td>\n",
       "      <td>102</td>\n",
       "      <td>5500</td>\n",
       "      <td>24</td>\n",
       "      <td>30</td>\n",
       "      <td>13950</td>\n",
       "    </tr>\n",
       "    <tr>\n",
       "      <th>4</th>\n",
       "      <td>2</td>\n",
       "      <td>164</td>\n",
       "      <td>audi</td>\n",
       "      <td>gas</td>\n",
       "      <td>std</td>\n",
       "      <td>four</td>\n",
       "      <td>sedan</td>\n",
       "      <td>4wd</td>\n",
       "      <td>front</td>\n",
       "      <td>99.4</td>\n",
       "      <td>...</td>\n",
       "      <td>136</td>\n",
       "      <td>mpfi</td>\n",
       "      <td>3.19</td>\n",
       "      <td>3.40</td>\n",
       "      <td>8.0</td>\n",
       "      <td>115</td>\n",
       "      <td>5500</td>\n",
       "      <td>18</td>\n",
       "      <td>22</td>\n",
       "      <td>17450</td>\n",
       "    </tr>\n",
       "  </tbody>\n",
       "</table>\n",
       "<p>5 rows × 26 columns</p>\n",
       "</div>"
      ],
      "text/plain": [
       "   symboling normalized_losses         make fuel_type aspiration num_of_doors  \\\n",
       "0          3                 ?  alfa-romero       gas        std          two   \n",
       "1          3                 ?  alfa-romero       gas        std          two   \n",
       "2          1                 ?  alfa-romero       gas        std          two   \n",
       "3          2               164         audi       gas        std         four   \n",
       "4          2               164         audi       gas        std         four   \n",
       "\n",
       "    body_style drive_wheels engine_location  wheel_base  ...  engine_size  \\\n",
       "0  convertible          rwd           front        88.6  ...          130   \n",
       "1  convertible          rwd           front        88.6  ...          130   \n",
       "2    hatchback          rwd           front        94.5  ...          152   \n",
       "3        sedan          fwd           front        99.8  ...          109   \n",
       "4        sedan          4wd           front        99.4  ...          136   \n",
       "\n",
       "   fuel_system  bore  stroke compression_ratio horsepower  peak_rpm cit_mpg  \\\n",
       "0         mpfi  3.47    2.68               9.0        111      5000      21   \n",
       "1         mpfi  3.47    2.68               9.0        111      5000      21   \n",
       "2         mpfi  2.68    3.47               9.0        154      5000      19   \n",
       "3         mpfi  3.19    3.40              10.0        102      5500      24   \n",
       "4         mpfi  3.19    3.40               8.0        115      5500      18   \n",
       "\n",
       "  highway_mpg  price  \n",
       "0          27  13495  \n",
       "1          27  16500  \n",
       "2          26  16500  \n",
       "3          30  13950  \n",
       "4          22  17450  \n",
       "\n",
       "[5 rows x 26 columns]"
      ]
     },
     "execution_count": 3,
     "metadata": {},
     "output_type": "execute_result"
    }
   ],
   "source": [
    "data.head()"
   ]
  },
  {
   "cell_type": "markdown",
   "id": "8f2a6e20",
   "metadata": {},
   "source": [
    "# Basic Checks"
   ]
  },
  {
   "cell_type": "code",
   "execution_count": 4,
   "id": "675a55ab",
   "metadata": {
    "scrolled": true
   },
   "outputs": [
    {
     "name": "stdout",
     "output_type": "stream",
     "text": [
      "<class 'pandas.core.frame.DataFrame'>\n",
      "RangeIndex: 201 entries, 0 to 200\n",
      "Data columns (total 26 columns):\n",
      " #   Column             Non-Null Count  Dtype  \n",
      "---  ------             --------------  -----  \n",
      " 0   symboling          201 non-null    int64  \n",
      " 1   normalized_losses  201 non-null    object \n",
      " 2   make               201 non-null    object \n",
      " 3   fuel_type          201 non-null    object \n",
      " 4   aspiration         201 non-null    object \n",
      " 5   num_of_doors       201 non-null    object \n",
      " 6   body_style         201 non-null    object \n",
      " 7   drive_wheels       201 non-null    object \n",
      " 8   engine_location    201 non-null    object \n",
      " 9   wheel_base         201 non-null    float64\n",
      " 10  length             201 non-null    float64\n",
      " 11  width              201 non-null    float64\n",
      " 12  height             201 non-null    float64\n",
      " 13  curb_weight        201 non-null    int64  \n",
      " 14  engine_type        201 non-null    object \n",
      " 15  num_of_cylinders   201 non-null    object \n",
      " 16  engine_size        201 non-null    int64  \n",
      " 17  fuel_system        201 non-null    object \n",
      " 18  bore               201 non-null    object \n",
      " 19  stroke             201 non-null    object \n",
      " 20  compression_ratio  201 non-null    float64\n",
      " 21  horsepower         201 non-null    object \n",
      " 22  peak_rpm           201 non-null    object \n",
      " 23  cit_mpg            201 non-null    int64  \n",
      " 24  highway_mpg        201 non-null    int64  \n",
      " 25  price              201 non-null    int64  \n",
      "dtypes: float64(5), int64(6), object(15)\n",
      "memory usage: 41.0+ KB\n"
     ]
    }
   ],
   "source": [
    "data.info()"
   ]
  },
  {
   "cell_type": "code",
   "execution_count": 5,
   "id": "8b834974",
   "metadata": {},
   "outputs": [],
   "source": [
    "pd.set_option('display.max_columns',None)"
   ]
  },
  {
   "cell_type": "code",
   "execution_count": 6,
   "id": "d92ca91c",
   "metadata": {},
   "outputs": [
    {
     "data": {
      "text/html": [
       "<div>\n",
       "<style scoped>\n",
       "    .dataframe tbody tr th:only-of-type {\n",
       "        vertical-align: middle;\n",
       "    }\n",
       "\n",
       "    .dataframe tbody tr th {\n",
       "        vertical-align: top;\n",
       "    }\n",
       "\n",
       "    .dataframe thead th {\n",
       "        text-align: right;\n",
       "    }\n",
       "</style>\n",
       "<table border=\"1\" class=\"dataframe\">\n",
       "  <thead>\n",
       "    <tr style=\"text-align: right;\">\n",
       "      <th></th>\n",
       "      <th>symboling</th>\n",
       "      <th>normalized_losses</th>\n",
       "      <th>make</th>\n",
       "      <th>fuel_type</th>\n",
       "      <th>aspiration</th>\n",
       "      <th>num_of_doors</th>\n",
       "      <th>body_style</th>\n",
       "      <th>drive_wheels</th>\n",
       "      <th>engine_location</th>\n",
       "      <th>wheel_base</th>\n",
       "      <th>length</th>\n",
       "      <th>width</th>\n",
       "      <th>height</th>\n",
       "      <th>curb_weight</th>\n",
       "      <th>engine_type</th>\n",
       "      <th>num_of_cylinders</th>\n",
       "      <th>engine_size</th>\n",
       "      <th>fuel_system</th>\n",
       "      <th>bore</th>\n",
       "      <th>stroke</th>\n",
       "      <th>compression_ratio</th>\n",
       "      <th>horsepower</th>\n",
       "      <th>peak_rpm</th>\n",
       "      <th>cit_mpg</th>\n",
       "      <th>highway_mpg</th>\n",
       "      <th>price</th>\n",
       "    </tr>\n",
       "  </thead>\n",
       "  <tbody>\n",
       "    <tr>\n",
       "      <th>0</th>\n",
       "      <td>3</td>\n",
       "      <td>?</td>\n",
       "      <td>alfa-romero</td>\n",
       "      <td>gas</td>\n",
       "      <td>std</td>\n",
       "      <td>two</td>\n",
       "      <td>convertible</td>\n",
       "      <td>rwd</td>\n",
       "      <td>front</td>\n",
       "      <td>88.6</td>\n",
       "      <td>168.8</td>\n",
       "      <td>64.1</td>\n",
       "      <td>48.8</td>\n",
       "      <td>2548</td>\n",
       "      <td>dohc</td>\n",
       "      <td>four</td>\n",
       "      <td>130</td>\n",
       "      <td>mpfi</td>\n",
       "      <td>3.47</td>\n",
       "      <td>2.68</td>\n",
       "      <td>9.0</td>\n",
       "      <td>111</td>\n",
       "      <td>5000</td>\n",
       "      <td>21</td>\n",
       "      <td>27</td>\n",
       "      <td>13495</td>\n",
       "    </tr>\n",
       "    <tr>\n",
       "      <th>1</th>\n",
       "      <td>3</td>\n",
       "      <td>?</td>\n",
       "      <td>alfa-romero</td>\n",
       "      <td>gas</td>\n",
       "      <td>std</td>\n",
       "      <td>two</td>\n",
       "      <td>convertible</td>\n",
       "      <td>rwd</td>\n",
       "      <td>front</td>\n",
       "      <td>88.6</td>\n",
       "      <td>168.8</td>\n",
       "      <td>64.1</td>\n",
       "      <td>48.8</td>\n",
       "      <td>2548</td>\n",
       "      <td>dohc</td>\n",
       "      <td>four</td>\n",
       "      <td>130</td>\n",
       "      <td>mpfi</td>\n",
       "      <td>3.47</td>\n",
       "      <td>2.68</td>\n",
       "      <td>9.0</td>\n",
       "      <td>111</td>\n",
       "      <td>5000</td>\n",
       "      <td>21</td>\n",
       "      <td>27</td>\n",
       "      <td>16500</td>\n",
       "    </tr>\n",
       "    <tr>\n",
       "      <th>2</th>\n",
       "      <td>1</td>\n",
       "      <td>?</td>\n",
       "      <td>alfa-romero</td>\n",
       "      <td>gas</td>\n",
       "      <td>std</td>\n",
       "      <td>two</td>\n",
       "      <td>hatchback</td>\n",
       "      <td>rwd</td>\n",
       "      <td>front</td>\n",
       "      <td>94.5</td>\n",
       "      <td>171.2</td>\n",
       "      <td>65.5</td>\n",
       "      <td>52.4</td>\n",
       "      <td>2823</td>\n",
       "      <td>ohcv</td>\n",
       "      <td>six</td>\n",
       "      <td>152</td>\n",
       "      <td>mpfi</td>\n",
       "      <td>2.68</td>\n",
       "      <td>3.47</td>\n",
       "      <td>9.0</td>\n",
       "      <td>154</td>\n",
       "      <td>5000</td>\n",
       "      <td>19</td>\n",
       "      <td>26</td>\n",
       "      <td>16500</td>\n",
       "    </tr>\n",
       "    <tr>\n",
       "      <th>3</th>\n",
       "      <td>2</td>\n",
       "      <td>164</td>\n",
       "      <td>audi</td>\n",
       "      <td>gas</td>\n",
       "      <td>std</td>\n",
       "      <td>four</td>\n",
       "      <td>sedan</td>\n",
       "      <td>fwd</td>\n",
       "      <td>front</td>\n",
       "      <td>99.8</td>\n",
       "      <td>176.6</td>\n",
       "      <td>66.2</td>\n",
       "      <td>54.3</td>\n",
       "      <td>2337</td>\n",
       "      <td>ohc</td>\n",
       "      <td>four</td>\n",
       "      <td>109</td>\n",
       "      <td>mpfi</td>\n",
       "      <td>3.19</td>\n",
       "      <td>3.40</td>\n",
       "      <td>10.0</td>\n",
       "      <td>102</td>\n",
       "      <td>5500</td>\n",
       "      <td>24</td>\n",
       "      <td>30</td>\n",
       "      <td>13950</td>\n",
       "    </tr>\n",
       "    <tr>\n",
       "      <th>4</th>\n",
       "      <td>2</td>\n",
       "      <td>164</td>\n",
       "      <td>audi</td>\n",
       "      <td>gas</td>\n",
       "      <td>std</td>\n",
       "      <td>four</td>\n",
       "      <td>sedan</td>\n",
       "      <td>4wd</td>\n",
       "      <td>front</td>\n",
       "      <td>99.4</td>\n",
       "      <td>176.6</td>\n",
       "      <td>66.4</td>\n",
       "      <td>54.3</td>\n",
       "      <td>2824</td>\n",
       "      <td>ohc</td>\n",
       "      <td>five</td>\n",
       "      <td>136</td>\n",
       "      <td>mpfi</td>\n",
       "      <td>3.19</td>\n",
       "      <td>3.40</td>\n",
       "      <td>8.0</td>\n",
       "      <td>115</td>\n",
       "      <td>5500</td>\n",
       "      <td>18</td>\n",
       "      <td>22</td>\n",
       "      <td>17450</td>\n",
       "    </tr>\n",
       "    <tr>\n",
       "      <th>...</th>\n",
       "      <td>...</td>\n",
       "      <td>...</td>\n",
       "      <td>...</td>\n",
       "      <td>...</td>\n",
       "      <td>...</td>\n",
       "      <td>...</td>\n",
       "      <td>...</td>\n",
       "      <td>...</td>\n",
       "      <td>...</td>\n",
       "      <td>...</td>\n",
       "      <td>...</td>\n",
       "      <td>...</td>\n",
       "      <td>...</td>\n",
       "      <td>...</td>\n",
       "      <td>...</td>\n",
       "      <td>...</td>\n",
       "      <td>...</td>\n",
       "      <td>...</td>\n",
       "      <td>...</td>\n",
       "      <td>...</td>\n",
       "      <td>...</td>\n",
       "      <td>...</td>\n",
       "      <td>...</td>\n",
       "      <td>...</td>\n",
       "      <td>...</td>\n",
       "      <td>...</td>\n",
       "    </tr>\n",
       "    <tr>\n",
       "      <th>196</th>\n",
       "      <td>-1</td>\n",
       "      <td>95</td>\n",
       "      <td>volvo</td>\n",
       "      <td>gas</td>\n",
       "      <td>std</td>\n",
       "      <td>four</td>\n",
       "      <td>sedan</td>\n",
       "      <td>rwd</td>\n",
       "      <td>front</td>\n",
       "      <td>109.1</td>\n",
       "      <td>188.8</td>\n",
       "      <td>68.9</td>\n",
       "      <td>55.5</td>\n",
       "      <td>2952</td>\n",
       "      <td>ohc</td>\n",
       "      <td>four</td>\n",
       "      <td>141</td>\n",
       "      <td>mpfi</td>\n",
       "      <td>3.78</td>\n",
       "      <td>3.15</td>\n",
       "      <td>9.5</td>\n",
       "      <td>114</td>\n",
       "      <td>5400</td>\n",
       "      <td>23</td>\n",
       "      <td>28</td>\n",
       "      <td>16845</td>\n",
       "    </tr>\n",
       "    <tr>\n",
       "      <th>197</th>\n",
       "      <td>-1</td>\n",
       "      <td>95</td>\n",
       "      <td>volvo</td>\n",
       "      <td>gas</td>\n",
       "      <td>turbo</td>\n",
       "      <td>four</td>\n",
       "      <td>sedan</td>\n",
       "      <td>rwd</td>\n",
       "      <td>front</td>\n",
       "      <td>109.1</td>\n",
       "      <td>188.8</td>\n",
       "      <td>68.8</td>\n",
       "      <td>55.5</td>\n",
       "      <td>3049</td>\n",
       "      <td>ohc</td>\n",
       "      <td>four</td>\n",
       "      <td>141</td>\n",
       "      <td>mpfi</td>\n",
       "      <td>3.78</td>\n",
       "      <td>3.15</td>\n",
       "      <td>8.7</td>\n",
       "      <td>160</td>\n",
       "      <td>5300</td>\n",
       "      <td>19</td>\n",
       "      <td>25</td>\n",
       "      <td>19045</td>\n",
       "    </tr>\n",
       "    <tr>\n",
       "      <th>198</th>\n",
       "      <td>-1</td>\n",
       "      <td>95</td>\n",
       "      <td>volvo</td>\n",
       "      <td>gas</td>\n",
       "      <td>std</td>\n",
       "      <td>four</td>\n",
       "      <td>sedan</td>\n",
       "      <td>rwd</td>\n",
       "      <td>front</td>\n",
       "      <td>109.1</td>\n",
       "      <td>188.8</td>\n",
       "      <td>68.9</td>\n",
       "      <td>55.5</td>\n",
       "      <td>3012</td>\n",
       "      <td>ohcv</td>\n",
       "      <td>six</td>\n",
       "      <td>173</td>\n",
       "      <td>mpfi</td>\n",
       "      <td>3.58</td>\n",
       "      <td>2.87</td>\n",
       "      <td>8.8</td>\n",
       "      <td>134</td>\n",
       "      <td>5500</td>\n",
       "      <td>18</td>\n",
       "      <td>23</td>\n",
       "      <td>21485</td>\n",
       "    </tr>\n",
       "    <tr>\n",
       "      <th>199</th>\n",
       "      <td>-1</td>\n",
       "      <td>95</td>\n",
       "      <td>volvo</td>\n",
       "      <td>diesel</td>\n",
       "      <td>turbo</td>\n",
       "      <td>four</td>\n",
       "      <td>sedan</td>\n",
       "      <td>rwd</td>\n",
       "      <td>front</td>\n",
       "      <td>109.1</td>\n",
       "      <td>188.8</td>\n",
       "      <td>68.9</td>\n",
       "      <td>55.5</td>\n",
       "      <td>3217</td>\n",
       "      <td>ohc</td>\n",
       "      <td>six</td>\n",
       "      <td>145</td>\n",
       "      <td>idi</td>\n",
       "      <td>3.01</td>\n",
       "      <td>3.40</td>\n",
       "      <td>23.0</td>\n",
       "      <td>106</td>\n",
       "      <td>4800</td>\n",
       "      <td>26</td>\n",
       "      <td>27</td>\n",
       "      <td>22470</td>\n",
       "    </tr>\n",
       "    <tr>\n",
       "      <th>200</th>\n",
       "      <td>-1</td>\n",
       "      <td>95</td>\n",
       "      <td>volvo</td>\n",
       "      <td>gas</td>\n",
       "      <td>turbo</td>\n",
       "      <td>four</td>\n",
       "      <td>sedan</td>\n",
       "      <td>rwd</td>\n",
       "      <td>front</td>\n",
       "      <td>109.1</td>\n",
       "      <td>188.8</td>\n",
       "      <td>68.9</td>\n",
       "      <td>55.5</td>\n",
       "      <td>3062</td>\n",
       "      <td>ohc</td>\n",
       "      <td>four</td>\n",
       "      <td>141</td>\n",
       "      <td>mpfi</td>\n",
       "      <td>3.78</td>\n",
       "      <td>3.15</td>\n",
       "      <td>9.5</td>\n",
       "      <td>114</td>\n",
       "      <td>5400</td>\n",
       "      <td>19</td>\n",
       "      <td>25</td>\n",
       "      <td>22625</td>\n",
       "    </tr>\n",
       "  </tbody>\n",
       "</table>\n",
       "<p>201 rows × 26 columns</p>\n",
       "</div>"
      ],
      "text/plain": [
       "     symboling normalized_losses         make fuel_type aspiration  \\\n",
       "0            3                 ?  alfa-romero       gas        std   \n",
       "1            3                 ?  alfa-romero       gas        std   \n",
       "2            1                 ?  alfa-romero       gas        std   \n",
       "3            2               164         audi       gas        std   \n",
       "4            2               164         audi       gas        std   \n",
       "..         ...               ...          ...       ...        ...   \n",
       "196         -1                95        volvo       gas        std   \n",
       "197         -1                95        volvo       gas      turbo   \n",
       "198         -1                95        volvo       gas        std   \n",
       "199         -1                95        volvo    diesel      turbo   \n",
       "200         -1                95        volvo       gas      turbo   \n",
       "\n",
       "    num_of_doors   body_style drive_wheels engine_location  wheel_base  \\\n",
       "0            two  convertible          rwd           front        88.6   \n",
       "1            two  convertible          rwd           front        88.6   \n",
       "2            two    hatchback          rwd           front        94.5   \n",
       "3           four        sedan          fwd           front        99.8   \n",
       "4           four        sedan          4wd           front        99.4   \n",
       "..           ...          ...          ...             ...         ...   \n",
       "196         four        sedan          rwd           front       109.1   \n",
       "197         four        sedan          rwd           front       109.1   \n",
       "198         four        sedan          rwd           front       109.1   \n",
       "199         four        sedan          rwd           front       109.1   \n",
       "200         four        sedan          rwd           front       109.1   \n",
       "\n",
       "     length  width  height  curb_weight engine_type num_of_cylinders  \\\n",
       "0     168.8   64.1    48.8         2548        dohc             four   \n",
       "1     168.8   64.1    48.8         2548        dohc             four   \n",
       "2     171.2   65.5    52.4         2823        ohcv              six   \n",
       "3     176.6   66.2    54.3         2337         ohc             four   \n",
       "4     176.6   66.4    54.3         2824         ohc             five   \n",
       "..      ...    ...     ...          ...         ...              ...   \n",
       "196   188.8   68.9    55.5         2952         ohc             four   \n",
       "197   188.8   68.8    55.5         3049         ohc             four   \n",
       "198   188.8   68.9    55.5         3012        ohcv              six   \n",
       "199   188.8   68.9    55.5         3217         ohc              six   \n",
       "200   188.8   68.9    55.5         3062         ohc             four   \n",
       "\n",
       "     engine_size fuel_system  bore stroke  compression_ratio horsepower  \\\n",
       "0            130        mpfi  3.47   2.68                9.0        111   \n",
       "1            130        mpfi  3.47   2.68                9.0        111   \n",
       "2            152        mpfi  2.68   3.47                9.0        154   \n",
       "3            109        mpfi  3.19   3.40               10.0        102   \n",
       "4            136        mpfi  3.19   3.40                8.0        115   \n",
       "..           ...         ...   ...    ...                ...        ...   \n",
       "196          141        mpfi  3.78   3.15                9.5        114   \n",
       "197          141        mpfi  3.78   3.15                8.7        160   \n",
       "198          173        mpfi  3.58   2.87                8.8        134   \n",
       "199          145         idi  3.01   3.40               23.0        106   \n",
       "200          141        mpfi  3.78   3.15                9.5        114   \n",
       "\n",
       "    peak_rpm  cit_mpg  highway_mpg  price  \n",
       "0       5000       21           27  13495  \n",
       "1       5000       21           27  16500  \n",
       "2       5000       19           26  16500  \n",
       "3       5500       24           30  13950  \n",
       "4       5500       18           22  17450  \n",
       "..       ...      ...          ...    ...  \n",
       "196     5400       23           28  16845  \n",
       "197     5300       19           25  19045  \n",
       "198     5500       18           23  21485  \n",
       "199     4800       26           27  22470  \n",
       "200     5400       19           25  22625  \n",
       "\n",
       "[201 rows x 26 columns]"
      ]
     },
     "execution_count": 6,
     "metadata": {},
     "output_type": "execute_result"
    }
   ],
   "source": [
    "data"
   ]
  },
  {
   "cell_type": "code",
   "execution_count": 7,
   "id": "1138cbbc",
   "metadata": {},
   "outputs": [
    {
     "data": {
      "text/plain": [
       "(201, 26)"
      ]
     },
     "execution_count": 7,
     "metadata": {},
     "output_type": "execute_result"
    }
   ],
   "source": [
    "data.shape"
   ]
  },
  {
   "cell_type": "code",
   "execution_count": 8,
   "id": "13090bb0",
   "metadata": {},
   "outputs": [
    {
     "data": {
      "text/plain": [
       "Index(['symboling', 'normalized_losses', 'make', 'fuel_type', 'aspiration',\n",
       "       'num_of_doors', 'body_style', 'drive_wheels', 'engine_location',\n",
       "       'wheel_base', 'length', 'width', 'height', 'curb_weight', 'engine_type',\n",
       "       'num_of_cylinders', 'engine_size', 'fuel_system', 'bore', 'stroke',\n",
       "       'compression_ratio', 'horsepower', 'peak_rpm', 'cit_mpg', 'highway_mpg',\n",
       "       'price'],\n",
       "      dtype='object')"
      ]
     },
     "execution_count": 8,
     "metadata": {},
     "output_type": "execute_result"
    }
   ],
   "source": [
    "data.columns"
   ]
  },
  {
   "cell_type": "code",
   "execution_count": 9,
   "id": "1416b05d",
   "metadata": {},
   "outputs": [
    {
     "data": {
      "text/html": [
       "<div>\n",
       "<style scoped>\n",
       "    .dataframe tbody tr th:only-of-type {\n",
       "        vertical-align: middle;\n",
       "    }\n",
       "\n",
       "    .dataframe tbody tr th {\n",
       "        vertical-align: top;\n",
       "    }\n",
       "\n",
       "    .dataframe thead th {\n",
       "        text-align: right;\n",
       "    }\n",
       "</style>\n",
       "<table border=\"1\" class=\"dataframe\">\n",
       "  <thead>\n",
       "    <tr style=\"text-align: right;\">\n",
       "      <th></th>\n",
       "      <th>symboling</th>\n",
       "      <th>wheel_base</th>\n",
       "      <th>length</th>\n",
       "      <th>width</th>\n",
       "      <th>height</th>\n",
       "      <th>curb_weight</th>\n",
       "      <th>engine_size</th>\n",
       "      <th>compression_ratio</th>\n",
       "      <th>cit_mpg</th>\n",
       "      <th>highway_mpg</th>\n",
       "      <th>price</th>\n",
       "    </tr>\n",
       "  </thead>\n",
       "  <tbody>\n",
       "    <tr>\n",
       "      <th>count</th>\n",
       "      <td>201.000000</td>\n",
       "      <td>201.000000</td>\n",
       "      <td>201.000000</td>\n",
       "      <td>201.000000</td>\n",
       "      <td>201.000000</td>\n",
       "      <td>201.000000</td>\n",
       "      <td>201.000000</td>\n",
       "      <td>201.000000</td>\n",
       "      <td>201.000000</td>\n",
       "      <td>201.000000</td>\n",
       "      <td>201.000000</td>\n",
       "    </tr>\n",
       "    <tr>\n",
       "      <th>mean</th>\n",
       "      <td>0.840796</td>\n",
       "      <td>98.797015</td>\n",
       "      <td>174.200995</td>\n",
       "      <td>65.889055</td>\n",
       "      <td>53.766667</td>\n",
       "      <td>2555.666667</td>\n",
       "      <td>126.875622</td>\n",
       "      <td>10.164279</td>\n",
       "      <td>25.179104</td>\n",
       "      <td>30.686567</td>\n",
       "      <td>13207.129353</td>\n",
       "    </tr>\n",
       "    <tr>\n",
       "      <th>std</th>\n",
       "      <td>1.254802</td>\n",
       "      <td>6.066366</td>\n",
       "      <td>12.322175</td>\n",
       "      <td>2.101471</td>\n",
       "      <td>2.447822</td>\n",
       "      <td>517.296727</td>\n",
       "      <td>41.546834</td>\n",
       "      <td>4.004965</td>\n",
       "      <td>6.423220</td>\n",
       "      <td>6.815150</td>\n",
       "      <td>7947.066342</td>\n",
       "    </tr>\n",
       "    <tr>\n",
       "      <th>min</th>\n",
       "      <td>-2.000000</td>\n",
       "      <td>86.600000</td>\n",
       "      <td>141.100000</td>\n",
       "      <td>60.300000</td>\n",
       "      <td>47.800000</td>\n",
       "      <td>1488.000000</td>\n",
       "      <td>61.000000</td>\n",
       "      <td>7.000000</td>\n",
       "      <td>13.000000</td>\n",
       "      <td>16.000000</td>\n",
       "      <td>5118.000000</td>\n",
       "    </tr>\n",
       "    <tr>\n",
       "      <th>25%</th>\n",
       "      <td>0.000000</td>\n",
       "      <td>94.500000</td>\n",
       "      <td>166.800000</td>\n",
       "      <td>64.100000</td>\n",
       "      <td>52.000000</td>\n",
       "      <td>2169.000000</td>\n",
       "      <td>98.000000</td>\n",
       "      <td>8.600000</td>\n",
       "      <td>19.000000</td>\n",
       "      <td>25.000000</td>\n",
       "      <td>7775.000000</td>\n",
       "    </tr>\n",
       "    <tr>\n",
       "      <th>50%</th>\n",
       "      <td>1.000000</td>\n",
       "      <td>97.000000</td>\n",
       "      <td>173.200000</td>\n",
       "      <td>65.500000</td>\n",
       "      <td>54.100000</td>\n",
       "      <td>2414.000000</td>\n",
       "      <td>120.000000</td>\n",
       "      <td>9.000000</td>\n",
       "      <td>24.000000</td>\n",
       "      <td>30.000000</td>\n",
       "      <td>10295.000000</td>\n",
       "    </tr>\n",
       "    <tr>\n",
       "      <th>75%</th>\n",
       "      <td>2.000000</td>\n",
       "      <td>102.400000</td>\n",
       "      <td>183.500000</td>\n",
       "      <td>66.600000</td>\n",
       "      <td>55.500000</td>\n",
       "      <td>2926.000000</td>\n",
       "      <td>141.000000</td>\n",
       "      <td>9.400000</td>\n",
       "      <td>30.000000</td>\n",
       "      <td>34.000000</td>\n",
       "      <td>16500.000000</td>\n",
       "    </tr>\n",
       "    <tr>\n",
       "      <th>max</th>\n",
       "      <td>3.000000</td>\n",
       "      <td>120.900000</td>\n",
       "      <td>208.100000</td>\n",
       "      <td>72.000000</td>\n",
       "      <td>59.800000</td>\n",
       "      <td>4066.000000</td>\n",
       "      <td>326.000000</td>\n",
       "      <td>23.000000</td>\n",
       "      <td>49.000000</td>\n",
       "      <td>54.000000</td>\n",
       "      <td>45400.000000</td>\n",
       "    </tr>\n",
       "  </tbody>\n",
       "</table>\n",
       "</div>"
      ],
      "text/plain": [
       "        symboling  wheel_base      length       width      height  \\\n",
       "count  201.000000  201.000000  201.000000  201.000000  201.000000   \n",
       "mean     0.840796   98.797015  174.200995   65.889055   53.766667   \n",
       "std      1.254802    6.066366   12.322175    2.101471    2.447822   \n",
       "min     -2.000000   86.600000  141.100000   60.300000   47.800000   \n",
       "25%      0.000000   94.500000  166.800000   64.100000   52.000000   \n",
       "50%      1.000000   97.000000  173.200000   65.500000   54.100000   \n",
       "75%      2.000000  102.400000  183.500000   66.600000   55.500000   \n",
       "max      3.000000  120.900000  208.100000   72.000000   59.800000   \n",
       "\n",
       "       curb_weight  engine_size  compression_ratio     cit_mpg  highway_mpg  \\\n",
       "count   201.000000   201.000000         201.000000  201.000000   201.000000   \n",
       "mean   2555.666667   126.875622          10.164279   25.179104    30.686567   \n",
       "std     517.296727    41.546834           4.004965    6.423220     6.815150   \n",
       "min    1488.000000    61.000000           7.000000   13.000000    16.000000   \n",
       "25%    2169.000000    98.000000           8.600000   19.000000    25.000000   \n",
       "50%    2414.000000   120.000000           9.000000   24.000000    30.000000   \n",
       "75%    2926.000000   141.000000           9.400000   30.000000    34.000000   \n",
       "max    4066.000000   326.000000          23.000000   49.000000    54.000000   \n",
       "\n",
       "              price  \n",
       "count    201.000000  \n",
       "mean   13207.129353  \n",
       "std     7947.066342  \n",
       "min     5118.000000  \n",
       "25%     7775.000000  \n",
       "50%    10295.000000  \n",
       "75%    16500.000000  \n",
       "max    45400.000000  "
      ]
     },
     "execution_count": 9,
     "metadata": {},
     "output_type": "execute_result"
    }
   ],
   "source": [
    "data.describe()"
   ]
  },
  {
   "cell_type": "code",
   "execution_count": 10,
   "id": "1c6888b7",
   "metadata": {},
   "outputs": [
    {
     "data": {
      "text/html": [
       "<div>\n",
       "<style scoped>\n",
       "    .dataframe tbody tr th:only-of-type {\n",
       "        vertical-align: middle;\n",
       "    }\n",
       "\n",
       "    .dataframe tbody tr th {\n",
       "        vertical-align: top;\n",
       "    }\n",
       "\n",
       "    .dataframe thead th {\n",
       "        text-align: right;\n",
       "    }\n",
       "</style>\n",
       "<table border=\"1\" class=\"dataframe\">\n",
       "  <thead>\n",
       "    <tr style=\"text-align: right;\">\n",
       "      <th></th>\n",
       "      <th>normalized_losses</th>\n",
       "      <th>make</th>\n",
       "      <th>fuel_type</th>\n",
       "      <th>aspiration</th>\n",
       "      <th>num_of_doors</th>\n",
       "      <th>body_style</th>\n",
       "      <th>drive_wheels</th>\n",
       "      <th>engine_location</th>\n",
       "      <th>engine_type</th>\n",
       "      <th>num_of_cylinders</th>\n",
       "      <th>fuel_system</th>\n",
       "      <th>bore</th>\n",
       "      <th>stroke</th>\n",
       "      <th>horsepower</th>\n",
       "      <th>peak_rpm</th>\n",
       "    </tr>\n",
       "  </thead>\n",
       "  <tbody>\n",
       "    <tr>\n",
       "      <th>count</th>\n",
       "      <td>201</td>\n",
       "      <td>201</td>\n",
       "      <td>201</td>\n",
       "      <td>201</td>\n",
       "      <td>201</td>\n",
       "      <td>201</td>\n",
       "      <td>201</td>\n",
       "      <td>201</td>\n",
       "      <td>201</td>\n",
       "      <td>201</td>\n",
       "      <td>201</td>\n",
       "      <td>201</td>\n",
       "      <td>201</td>\n",
       "      <td>201</td>\n",
       "      <td>201</td>\n",
       "    </tr>\n",
       "    <tr>\n",
       "      <th>unique</th>\n",
       "      <td>52</td>\n",
       "      <td>22</td>\n",
       "      <td>2</td>\n",
       "      <td>2</td>\n",
       "      <td>3</td>\n",
       "      <td>5</td>\n",
       "      <td>3</td>\n",
       "      <td>2</td>\n",
       "      <td>6</td>\n",
       "      <td>7</td>\n",
       "      <td>8</td>\n",
       "      <td>39</td>\n",
       "      <td>37</td>\n",
       "      <td>59</td>\n",
       "      <td>23</td>\n",
       "    </tr>\n",
       "    <tr>\n",
       "      <th>top</th>\n",
       "      <td>?</td>\n",
       "      <td>toyota</td>\n",
       "      <td>gas</td>\n",
       "      <td>std</td>\n",
       "      <td>four</td>\n",
       "      <td>sedan</td>\n",
       "      <td>fwd</td>\n",
       "      <td>front</td>\n",
       "      <td>ohc</td>\n",
       "      <td>four</td>\n",
       "      <td>mpfi</td>\n",
       "      <td>3.62</td>\n",
       "      <td>3.40</td>\n",
       "      <td>68</td>\n",
       "      <td>5500</td>\n",
       "    </tr>\n",
       "    <tr>\n",
       "      <th>freq</th>\n",
       "      <td>37</td>\n",
       "      <td>32</td>\n",
       "      <td>181</td>\n",
       "      <td>165</td>\n",
       "      <td>113</td>\n",
       "      <td>94</td>\n",
       "      <td>118</td>\n",
       "      <td>198</td>\n",
       "      <td>145</td>\n",
       "      <td>157</td>\n",
       "      <td>92</td>\n",
       "      <td>23</td>\n",
       "      <td>19</td>\n",
       "      <td>19</td>\n",
       "      <td>36</td>\n",
       "    </tr>\n",
       "  </tbody>\n",
       "</table>\n",
       "</div>"
      ],
      "text/plain": [
       "       normalized_losses    make fuel_type aspiration num_of_doors body_style  \\\n",
       "count                201     201       201        201          201        201   \n",
       "unique                52      22         2          2            3          5   \n",
       "top                    ?  toyota       gas        std         four      sedan   \n",
       "freq                  37      32       181        165          113         94   \n",
       "\n",
       "       drive_wheels engine_location engine_type num_of_cylinders fuel_system  \\\n",
       "count           201             201         201              201         201   \n",
       "unique            3               2           6                7           8   \n",
       "top             fwd           front         ohc             four        mpfi   \n",
       "freq            118             198         145              157          92   \n",
       "\n",
       "        bore stroke horsepower peak_rpm  \n",
       "count    201    201        201      201  \n",
       "unique    39     37         59       23  \n",
       "top     3.62   3.40         68     5500  \n",
       "freq      23     19         19       36  "
      ]
     },
     "execution_count": 10,
     "metadata": {},
     "output_type": "execute_result"
    }
   ],
   "source": [
    "data.describe(include='O')"
   ]
  },
  {
   "cell_type": "code",
   "execution_count": 11,
   "id": "ac4d872a",
   "metadata": {},
   "outputs": [
    {
     "data": {
      "text/plain": [
       "make\n",
       "toyota           32\n",
       "nissan           18\n",
       "mazda            17\n",
       "mitsubishi       13\n",
       "honda            13\n",
       "volkswagen       12\n",
       "subaru           12\n",
       "peugot           11\n",
       "volvo            11\n",
       "dodge             9\n",
       "mercedes-benz     8\n",
       "bmw               8\n",
       "plymouth          7\n",
       "audi              6\n",
       "saab              6\n",
       "porsche           4\n",
       "jaguar            3\n",
       "chevrolet         3\n",
       "alfa-romero       3\n",
       "isuzu             2\n",
       "renault           2\n",
       "mercury           1\n",
       "Name: count, dtype: int64"
      ]
     },
     "execution_count": 11,
     "metadata": {},
     "output_type": "execute_result"
    }
   ],
   "source": [
    "data['make'].value_counts()"
   ]
  },
  {
   "cell_type": "code",
   "execution_count": 12,
   "id": "0d010dd6",
   "metadata": {},
   "outputs": [
    {
     "data": {
      "text/plain": [
       "fuel_type\n",
       "gas       181\n",
       "diesel     20\n",
       "Name: count, dtype: int64"
      ]
     },
     "execution_count": 12,
     "metadata": {},
     "output_type": "execute_result"
    }
   ],
   "source": [
    "data['fuel_type'].value_counts()"
   ]
  },
  {
   "cell_type": "code",
   "execution_count": 13,
   "id": "2d29d4ac",
   "metadata": {},
   "outputs": [
    {
     "data": {
      "text/plain": [
       "aspiration\n",
       "std      165\n",
       "turbo     36\n",
       "Name: count, dtype: int64"
      ]
     },
     "execution_count": 13,
     "metadata": {},
     "output_type": "execute_result"
    }
   ],
   "source": [
    "data['aspiration'].value_counts()"
   ]
  },
  {
   "cell_type": "code",
   "execution_count": 14,
   "id": "ef34225c",
   "metadata": {},
   "outputs": [
    {
     "data": {
      "text/plain": [
       "num_of_doors\n",
       "four    113\n",
       "two      86\n",
       "?         2\n",
       "Name: count, dtype: int64"
      ]
     },
     "execution_count": 14,
     "metadata": {},
     "output_type": "execute_result"
    }
   ],
   "source": [
    "data['num_of_doors'].value_counts()"
   ]
  },
  {
   "cell_type": "code",
   "execution_count": 15,
   "id": "b09cbfbc",
   "metadata": {},
   "outputs": [
    {
     "data": {
      "text/plain": [
       "body_style\n",
       "sedan          94\n",
       "hatchback      68\n",
       "wagon          25\n",
       "hardtop         8\n",
       "convertible     6\n",
       "Name: count, dtype: int64"
      ]
     },
     "execution_count": 15,
     "metadata": {},
     "output_type": "execute_result"
    }
   ],
   "source": [
    "data['body_style'].value_counts()"
   ]
  },
  {
   "cell_type": "code",
   "execution_count": 16,
   "id": "396f0caa",
   "metadata": {},
   "outputs": [
    {
     "data": {
      "text/plain": [
       "drive_wheels\n",
       "fwd    118\n",
       "rwd     75\n",
       "4wd      8\n",
       "Name: count, dtype: int64"
      ]
     },
     "execution_count": 16,
     "metadata": {},
     "output_type": "execute_result"
    }
   ],
   "source": [
    "data['drive_wheels'].value_counts()"
   ]
  },
  {
   "cell_type": "code",
   "execution_count": 17,
   "id": "93435671",
   "metadata": {},
   "outputs": [
    {
     "data": {
      "text/plain": [
       "engine_location\n",
       "front    198\n",
       "rear       3\n",
       "Name: count, dtype: int64"
      ]
     },
     "execution_count": 17,
     "metadata": {},
     "output_type": "execute_result"
    }
   ],
   "source": [
    "data['engine_location'].value_counts()"
   ]
  },
  {
   "cell_type": "code",
   "execution_count": 18,
   "id": "dfedc983",
   "metadata": {},
   "outputs": [
    {
     "data": {
      "text/plain": [
       "engine_type\n",
       "ohc      145\n",
       "ohcf      15\n",
       "ohcv      13\n",
       "dohc      12\n",
       "l         12\n",
       "rotor      4\n",
       "Name: count, dtype: int64"
      ]
     },
     "execution_count": 18,
     "metadata": {},
     "output_type": "execute_result"
    }
   ],
   "source": [
    "data['engine_type'].value_counts()"
   ]
  },
  {
   "cell_type": "code",
   "execution_count": 19,
   "id": "3e5f3b06",
   "metadata": {},
   "outputs": [
    {
     "data": {
      "text/plain": [
       "num_of_cylinders\n",
       "four      157\n",
       "six        24\n",
       "five       10\n",
       "two         4\n",
       "eight       4\n",
       "three       1\n",
       "twelve      1\n",
       "Name: count, dtype: int64"
      ]
     },
     "execution_count": 19,
     "metadata": {},
     "output_type": "execute_result"
    }
   ],
   "source": [
    "data['num_of_cylinders'].value_counts()"
   ]
  },
  {
   "cell_type": "code",
   "execution_count": 20,
   "id": "6b2f72a7",
   "metadata": {},
   "outputs": [
    {
     "data": {
      "text/plain": [
       "fuel_system\n",
       "mpfi    92\n",
       "2bbl    64\n",
       "idi     20\n",
       "1bbl    11\n",
       "spdi     9\n",
       "4bbl     3\n",
       "mfi      1\n",
       "spfi     1\n",
       "Name: count, dtype: int64"
      ]
     },
     "execution_count": 20,
     "metadata": {},
     "output_type": "execute_result"
    }
   ],
   "source": [
    "data['fuel_system'].value_counts()"
   ]
  },
  {
   "cell_type": "code",
   "execution_count": 21,
   "id": "ffb2089e",
   "metadata": {},
   "outputs": [
    {
     "data": {
      "text/plain": [
       "bore\n",
       "3.62    23\n",
       "3.19    20\n",
       "3.15    15\n",
       "2.97    12\n",
       "3.03    10\n",
       "3.46     9\n",
       "3.31     8\n",
       "3.78     8\n",
       "3.43     8\n",
       "3.27     7\n",
       "2.91     7\n",
       "3.39     6\n",
       "3.54     6\n",
       "3.05     6\n",
       "3.58     6\n",
       "3.70     5\n",
       "3.01     5\n",
       "3.35     4\n",
       "?        4\n",
       "3.17     3\n",
       "3.59     3\n",
       "3.74     3\n",
       "3.47     2\n",
       "3.24     2\n",
       "3.63     2\n",
       "3.50     2\n",
       "3.80     2\n",
       "3.33     2\n",
       "3.94     1\n",
       "3.13     1\n",
       "2.54     1\n",
       "3.08     1\n",
       "3.61     1\n",
       "3.34     1\n",
       "3.60     1\n",
       "2.92     1\n",
       "3.76     1\n",
       "2.68     1\n",
       "2.99     1\n",
       "Name: count, dtype: int64"
      ]
     },
     "execution_count": 21,
     "metadata": {},
     "output_type": "execute_result"
    }
   ],
   "source": [
    "data['bore'].value_counts()"
   ]
  },
  {
   "cell_type": "code",
   "execution_count": 22,
   "id": "de99c82b",
   "metadata": {},
   "outputs": [
    {
     "data": {
      "text/plain": [
       "stroke\n",
       "3.40    19\n",
       "3.23    14\n",
       "3.15    14\n",
       "3.03    14\n",
       "3.39    13\n",
       "2.64    11\n",
       "3.29     9\n",
       "3.35     9\n",
       "3.46     8\n",
       "3.27     6\n",
       "3.19     6\n",
       "3.41     6\n",
       "3.07     6\n",
       "3.58     6\n",
       "3.50     6\n",
       "3.64     5\n",
       "3.52     5\n",
       "3.86     4\n",
       "3.54     4\n",
       "3.47     4\n",
       "?        4\n",
       "3.90     3\n",
       "3.11     3\n",
       "2.90     3\n",
       "3.10     2\n",
       "4.17     2\n",
       "2.80     2\n",
       "2.19     2\n",
       "3.08     2\n",
       "2.68     2\n",
       "2.36     1\n",
       "3.16     1\n",
       "2.07     1\n",
       "3.21     1\n",
       "3.12     1\n",
       "2.76     1\n",
       "2.87     1\n",
       "Name: count, dtype: int64"
      ]
     },
     "execution_count": 22,
     "metadata": {},
     "output_type": "execute_result"
    }
   ],
   "source": [
    "data['stroke'].value_counts()"
   ]
  },
  {
   "cell_type": "code",
   "execution_count": 23,
   "id": "45550c0c",
   "metadata": {},
   "outputs": [
    {
     "data": {
      "text/plain": [
       "horsepower\n",
       "68     19\n",
       "69     10\n",
       "70      9\n",
       "116     9\n",
       "110     8\n",
       "95      7\n",
       "88      6\n",
       "62      6\n",
       "101     6\n",
       "114     6\n",
       "160     5\n",
       "102     5\n",
       "145     5\n",
       "76      5\n",
       "82      5\n",
       "84      5\n",
       "97      5\n",
       "92      4\n",
       "123     4\n",
       "111     4\n",
       "86      4\n",
       "90      3\n",
       "152     3\n",
       "73      3\n",
       "207     3\n",
       "85      3\n",
       "182     3\n",
       "121     3\n",
       "112     2\n",
       "56      2\n",
       "94      2\n",
       "156     2\n",
       "52      2\n",
       "?       2\n",
       "162     2\n",
       "161     2\n",
       "155     2\n",
       "176     2\n",
       "184     2\n",
       "100     2\n",
       "55      1\n",
       "134     1\n",
       "115     1\n",
       "140     1\n",
       "48      1\n",
       "58      1\n",
       "60      1\n",
       "78      1\n",
       "262     1\n",
       "200     1\n",
       "135     1\n",
       "64      1\n",
       "120     1\n",
       "72      1\n",
       "154     1\n",
       "143     1\n",
       "142     1\n",
       "175     1\n",
       "106     1\n",
       "Name: count, dtype: int64"
      ]
     },
     "execution_count": 23,
     "metadata": {},
     "output_type": "execute_result"
    }
   ],
   "source": [
    "data['horsepower'].value_counts()"
   ]
  },
  {
   "cell_type": "code",
   "execution_count": 24,
   "id": "fb552ac5",
   "metadata": {},
   "outputs": [
    {
     "data": {
      "text/plain": [
       "peak_rpm\n",
       "5500    36\n",
       "4800    36\n",
       "5000    27\n",
       "5200    23\n",
       "5400    11\n",
       "6000     9\n",
       "5800     7\n",
       "5250     7\n",
       "4500     7\n",
       "4150     5\n",
       "4200     5\n",
       "4350     4\n",
       "4750     4\n",
       "5100     3\n",
       "5900     3\n",
       "4250     3\n",
       "4400     3\n",
       "?        2\n",
       "6600     2\n",
       "4650     1\n",
       "5600     1\n",
       "4900     1\n",
       "5300     1\n",
       "Name: count, dtype: int64"
      ]
     },
     "execution_count": 24,
     "metadata": {},
     "output_type": "execute_result"
    }
   ],
   "source": [
    "data['peak_rpm'].value_counts()"
   ]
  },
  {
   "cell_type": "code",
   "execution_count": 25,
   "id": "f39a6103",
   "metadata": {},
   "outputs": [
    {
     "name": "stdout",
     "output_type": "stream",
     "text": [
      "<class 'pandas.core.frame.DataFrame'>\n",
      "RangeIndex: 201 entries, 0 to 200\n",
      "Data columns (total 26 columns):\n",
      " #   Column             Non-Null Count  Dtype  \n",
      "---  ------             --------------  -----  \n",
      " 0   symboling          201 non-null    int64  \n",
      " 1   normalized_losses  201 non-null    object \n",
      " 2   make               201 non-null    object \n",
      " 3   fuel_type          201 non-null    object \n",
      " 4   aspiration         201 non-null    object \n",
      " 5   num_of_doors       201 non-null    object \n",
      " 6   body_style         201 non-null    object \n",
      " 7   drive_wheels       201 non-null    object \n",
      " 8   engine_location    201 non-null    object \n",
      " 9   wheel_base         201 non-null    float64\n",
      " 10  length             201 non-null    float64\n",
      " 11  width              201 non-null    float64\n",
      " 12  height             201 non-null    float64\n",
      " 13  curb_weight        201 non-null    int64  \n",
      " 14  engine_type        201 non-null    object \n",
      " 15  num_of_cylinders   201 non-null    object \n",
      " 16  engine_size        201 non-null    int64  \n",
      " 17  fuel_system        201 non-null    object \n",
      " 18  bore               201 non-null    object \n",
      " 19  stroke             201 non-null    object \n",
      " 20  compression_ratio  201 non-null    float64\n",
      " 21  horsepower         201 non-null    object \n",
      " 22  peak_rpm           201 non-null    object \n",
      " 23  cit_mpg            201 non-null    int64  \n",
      " 24  highway_mpg        201 non-null    int64  \n",
      " 25  price              201 non-null    int64  \n",
      "dtypes: float64(5), int64(6), object(15)\n",
      "memory usage: 41.0+ KB\n"
     ]
    }
   ],
   "source": [
    "data.info()"
   ]
  },
  {
   "cell_type": "markdown",
   "id": "d88e9ef5",
   "metadata": {},
   "source": [
    "# Exploratory data analysis"
   ]
  },
  {
   "cell_type": "code",
   "execution_count": 26,
   "id": "93248dbd",
   "metadata": {},
   "outputs": [
    {
     "name": "stdout",
     "output_type": "stream",
     "text": [
      "Requirement already satisfied: sweetviz in c:\\users\\borka\\ swapnil\\lib\\site-packages (2.3.1)\n",
      "Requirement already satisfied: pandas!=1.0.0,!=1.0.1,!=1.0.2,>=0.25.3 in c:\\users\\borka\\ swapnil\\lib\\site-packages (from sweetviz) (2.0.3)\n",
      "Requirement already satisfied: numpy>=1.16.0 in c:\\users\\borka\\ swapnil\\lib\\site-packages (from sweetviz) (1.24.3)\n",
      "Requirement already satisfied: matplotlib>=3.1.3 in c:\\users\\borka\\ swapnil\\lib\\site-packages (from sweetviz) (3.7.2)\n",
      "Requirement already satisfied: tqdm>=4.43.0 in c:\\users\\borka\\ swapnil\\lib\\site-packages (from sweetviz) (4.65.0)\n",
      "Requirement already satisfied: scipy>=1.3.2 in c:\\users\\borka\\ swapnil\\lib\\site-packages (from sweetviz) (1.11.1)\n",
      "Requirement already satisfied: jinja2>=2.11.1 in c:\\users\\borka\\ swapnil\\lib\\site-packages (from sweetviz) (3.1.2)\n",
      "Requirement already satisfied: importlib-resources>=1.2.0 in c:\\users\\borka\\ swapnil\\lib\\site-packages (from sweetviz) (6.4.0)\n",
      "Requirement already satisfied: MarkupSafe>=2.0 in c:\\users\\borka\\ swapnil\\lib\\site-packages (from jinja2>=2.11.1->sweetviz) (2.1.1)\n",
      "Requirement already satisfied: contourpy>=1.0.1 in c:\\users\\borka\\ swapnil\\lib\\site-packages (from matplotlib>=3.1.3->sweetviz) (1.0.5)\n",
      "Requirement already satisfied: cycler>=0.10 in c:\\users\\borka\\ swapnil\\lib\\site-packages (from matplotlib>=3.1.3->sweetviz) (0.11.0)\n",
      "Requirement already satisfied: fonttools>=4.22.0 in c:\\users\\borka\\ swapnil\\lib\\site-packages (from matplotlib>=3.1.3->sweetviz) (4.25.0)\n",
      "Requirement already satisfied: kiwisolver>=1.0.1 in c:\\users\\borka\\ swapnil\\lib\\site-packages (from matplotlib>=3.1.3->sweetviz) (1.4.4)\n",
      "Requirement already satisfied: packaging>=20.0 in c:\\users\\borka\\ swapnil\\lib\\site-packages (from matplotlib>=3.1.3->sweetviz) (23.1)\n",
      "Requirement already satisfied: pillow>=6.2.0 in c:\\users\\borka\\ swapnil\\lib\\site-packages (from matplotlib>=3.1.3->sweetviz) (9.4.0)\n",
      "Requirement already satisfied: pyparsing<3.1,>=2.3.1 in c:\\users\\borka\\ swapnil\\lib\\site-packages (from matplotlib>=3.1.3->sweetviz) (3.0.9)\n",
      "Requirement already satisfied: python-dateutil>=2.7 in c:\\users\\borka\\ swapnil\\lib\\site-packages (from matplotlib>=3.1.3->sweetviz) (2.8.2)\n",
      "Requirement already satisfied: pytz>=2020.1 in c:\\users\\borka\\ swapnil\\lib\\site-packages (from pandas!=1.0.0,!=1.0.1,!=1.0.2,>=0.25.3->sweetviz) (2023.3.post1)\n",
      "Requirement already satisfied: tzdata>=2022.1 in c:\\users\\borka\\ swapnil\\lib\\site-packages (from pandas!=1.0.0,!=1.0.1,!=1.0.2,>=0.25.3->sweetviz) (2023.3)\n",
      "Requirement already satisfied: colorama in c:\\users\\borka\\ swapnil\\lib\\site-packages (from tqdm>=4.43.0->sweetviz) (0.4.6)\n",
      "Requirement already satisfied: six>=1.5 in c:\\users\\borka\\ swapnil\\lib\\site-packages (from python-dateutil>=2.7->matplotlib>=3.1.3->sweetviz) (1.16.0)\n",
      "Note: you may need to restart the kernel to use updated packages.\n"
     ]
    }
   ],
   "source": [
    "pip install sweetviz"
   ]
  },
  {
   "cell_type": "markdown",
   "id": "f136d8e3",
   "metadata": {},
   "source": [
    "### Univariate Analysis"
   ]
  },
  {
   "cell_type": "code",
   "execution_count": 27,
   "id": "8b7580b8",
   "metadata": {},
   "outputs": [
    {
     "data": {
      "application/vnd.jupyter.widget-view+json": {
       "model_id": "9e453890d67b475189e915932b16dbdb",
       "version_major": 2,
       "version_minor": 0
      },
      "text/plain": [
       "                                             |                                             | [  0%]   00:00 ->…"
      ]
     },
     "metadata": {},
     "output_type": "display_data"
    },
    {
     "name": "stdout",
     "output_type": "stream",
     "text": [
      "Report SWEETVIZ_REPORT.html was generated! NOTEBOOK/COLAB USERS: the web browser MAY not pop up, regardless, the report IS saved in your notebook/colab files.\n"
     ]
    }
   ],
   "source": [
    "import sweetviz as sv #  library for univariant analysis\n",
    "\n",
    "my_report = sv.analyze(data)## pass the original dataframe\n",
    "\n",
    "my_report.show_html() # Default arguments will generate to \"SWEETVIZ_REPORT.html\""
   ]
  },
  {
   "cell_type": "markdown",
   "id": "267463cd",
   "metadata": {},
   "source": [
    "##### Insights from univariate analysis"
   ]
  },
  {
   "cell_type": "markdown",
   "id": "8f10b115",
   "metadata": {},
   "source": [
    "## bivariate Analysis\n",
    "### Bivariate analysis: this dataset is not giving that much insights we talked to our mentor also they said  the problem with dataset  only. so you have mention this problem in the file\n",
    "\n"
   ]
  },
  {
   "cell_type": "code",
   "execution_count": 28,
   "id": "119937c9",
   "metadata": {},
   "outputs": [
    {
     "name": "stdout",
     "output_type": "stream",
     "text": [
      "<class 'pandas.core.frame.DataFrame'>\n",
      "RangeIndex: 201 entries, 0 to 200\n",
      "Data columns (total 26 columns):\n",
      " #   Column             Non-Null Count  Dtype  \n",
      "---  ------             --------------  -----  \n",
      " 0   symboling          201 non-null    int64  \n",
      " 1   normalized_losses  201 non-null    object \n",
      " 2   make               201 non-null    object \n",
      " 3   fuel_type          201 non-null    object \n",
      " 4   aspiration         201 non-null    object \n",
      " 5   num_of_doors       201 non-null    object \n",
      " 6   body_style         201 non-null    object \n",
      " 7   drive_wheels       201 non-null    object \n",
      " 8   engine_location    201 non-null    object \n",
      " 9   wheel_base         201 non-null    float64\n",
      " 10  length             201 non-null    float64\n",
      " 11  width              201 non-null    float64\n",
      " 12  height             201 non-null    float64\n",
      " 13  curb_weight        201 non-null    int64  \n",
      " 14  engine_type        201 non-null    object \n",
      " 15  num_of_cylinders   201 non-null    object \n",
      " 16  engine_size        201 non-null    int64  \n",
      " 17  fuel_system        201 non-null    object \n",
      " 18  bore               201 non-null    object \n",
      " 19  stroke             201 non-null    object \n",
      " 20  compression_ratio  201 non-null    float64\n",
      " 21  horsepower         201 non-null    object \n",
      " 22  peak_rpm           201 non-null    object \n",
      " 23  cit_mpg            201 non-null    int64  \n",
      " 24  highway_mpg        201 non-null    int64  \n",
      " 25  price              201 non-null    int64  \n",
      "dtypes: float64(5), int64(6), object(15)\n",
      "memory usage: 41.0+ KB\n"
     ]
    }
   ],
   "source": [
    "data.info()"
   ]
  },
  {
   "cell_type": "code",
   "execution_count": 29,
   "id": "3499fef8",
   "metadata": {},
   "outputs": [
    {
     "data": {
      "text/plain": [
       "Index(['symboling', 'normalized_losses', 'make', 'fuel_type', 'aspiration',\n",
       "       'num_of_doors', 'body_style', 'drive_wheels', 'engine_location',\n",
       "       'wheel_base', 'length', 'width', 'height', 'curb_weight', 'engine_type',\n",
       "       'num_of_cylinders', 'engine_size', 'fuel_system', 'bore', 'stroke',\n",
       "       'compression_ratio', 'horsepower', 'peak_rpm', 'cit_mpg', 'highway_mpg',\n",
       "       'price'],\n",
       "      dtype='object')"
      ]
     },
     "execution_count": 29,
     "metadata": {},
     "output_type": "execute_result"
    }
   ],
   "source": [
    "data.columns"
   ]
  },
  {
   "cell_type": "code",
   "execution_count": 30,
   "id": "d719d891",
   "metadata": {},
   "outputs": [],
   "source": [
    "data1=data[['symboling','wheel_base', 'length', 'width', 'height','curb_weight','engine_size','compression_ratio','cit_mpg',\n",
    "            'highway_mpg']] # Numerical data set\n",
    "data2=data[['normalized_losses', 'make', 'fuel_type', 'aspiration','num_of_doors', 'body_style', 'drive_wheels', \n",
    "            'engine_location','engine_type','num_of_cylinders', 'fuel_system', 'bore', \n",
    "            'stroke','horsepower', 'peak_rpm']] # Categorical data set"
   ]
  },
  {
   "cell_type": "code",
   "execution_count": null,
   "id": "4c9aa3b8",
   "metadata": {},
   "outputs": [],
   "source": [
    "# Plotting how every  categorical feature correlate with the \"target\"\n",
    "plt.figure(figsize=(50,50), facecolor='white')#canvas size\n",
    "plotnumber = 1#count variable\n",
    "\n",
    "for column in data1:#for loop to acess columns form data1\n",
    "    if plotnumber<=16 :#checking whether count variable is less than 16 or not\n",
    "        ax = plt.subplot(4,4,plotnumber)#plotting 8 graphs in canvas(4 rows and 4 columns)\n",
    "        sns.countplot(x=data1[column].dropna(axis=0)#plotting count plot \n",
    "                        ,hue=data.price)\n",
    "        plt.xlabel(column,fontsize=20)#assigning name to x-axis and increasing it's font \n",
    "        plt.ylabel('price',fontsize=20)#assigning name to y-axis and increasing it's font \n",
    "    plotnumber+=1#increasing counter\n",
    "plt.tight_layout()"
   ]
  },
  {
   "cell_type": "code",
   "execution_count": null,
   "id": "64d7500b",
   "metadata": {},
   "outputs": [],
   "source": [
    "# for Numerical dataset\n",
    "plt.figure(figsize=(20,25), facecolor='white')#To set canvas \n",
    "plotnumber = 1#counter\n",
    "\n",
    "for column in data1:#accessing the columns \n",
    "    if plotnumber<=16 :\n",
    "        ax = plt.subplot(4,4,plotnumber)\n",
    "        sns.histplot(x=data1[column],hue=data['price'])\n",
    "        plt.xlabel(column,fontsize=20)#assign name to x-axis and set font-20\n",
    "        plt.ylabel('price',fontsize=20)\n",
    "    plotnumber+=1#counter increment\n",
    "plt.tight_layout()"
   ]
  },
  {
   "cell_type": "markdown",
   "id": "8044fd3b",
   "metadata": {},
   "source": [
    "##### Insights from Bivariate analysis for Numerical dataset"
   ]
  },
  {
   "cell_type": "code",
   "execution_count": null,
   "id": "02e712cb",
   "metadata": {},
   "outputs": [],
   "source": []
  },
  {
   "cell_type": "code",
   "execution_count": null,
   "id": "45bde5a4",
   "metadata": {},
   "outputs": [],
   "source": [
    "# for categorical dataset\n",
    "plt.figure(figsize=(20,25), facecolor='white')#To set canvas \n",
    "plotnumber = 1#counter\n",
    "\n",
    "for column in data2:#accessing the columns \n",
    "    if plotnumber<=16 :\n",
    "        ax = plt.subplot(4,4,plotnumber)\n",
    "        sns.countplot(x=data2[column],hue=data['price'])\n",
    "        plt.xlabel(column,fontsize=20)#assign name to x-axis and set font-20\n",
    "        plt.ylabel('price',fontsize=20)\n",
    "    plotnumber+=1#counter increment\n",
    "plt.tight_layout()"
   ]
  },
  {
   "cell_type": "code",
   "execution_count": null,
   "id": "19f5dc36",
   "metadata": {},
   "outputs": [],
   "source": [
    "##### Insights from Bivariate analysis for categorical dataset"
   ]
  },
  {
   "cell_type": "markdown",
   "id": "e98b98d0",
   "metadata": {},
   "source": [
    "# Data Preprocessing"
   ]
  },
  {
   "cell_type": "code",
   "execution_count": null,
   "id": "4530e326",
   "metadata": {},
   "outputs": [],
   "source": [
    "data.isnull().sum()"
   ]
  },
  {
   "cell_type": "code",
   "execution_count": null,
   "id": "4c9cd491",
   "metadata": {},
   "outputs": [],
   "source": [
    "data['normalized_losses'] = pd.to_numeric(data['normalized_losses'], errors='coerce')\n",
    "\n",
    "#Impute missing values with the mean\n",
    "mean_normalized_losses = data['normalized_losses'].mean()\n",
    "data['normalized_losses'].fillna(mean_normalized_losses, inplace=True)"
   ]
  },
  {
   "cell_type": "code",
   "execution_count": null,
   "id": "8ef37776",
   "metadata": {},
   "outputs": [],
   "source": [
    "data['normalized_losses']=data['normalized_losses'].astype(int)"
   ]
  },
  {
   "cell_type": "code",
   "execution_count": null,
   "id": "d42400c3",
   "metadata": {},
   "outputs": [],
   "source": [
    "data.columns"
   ]
  },
  {
   "cell_type": "code",
   "execution_count": null,
   "id": "0ee03199",
   "metadata": {},
   "outputs": [],
   "source": [
    "data.info()"
   ]
  },
  {
   "cell_type": "code",
   "execution_count": null,
   "id": "3403126a",
   "metadata": {},
   "outputs": [],
   "source": [
    "from sklearn.preprocessing import LabelEncoder\n",
    "le=LabelEncoder()\n",
    "data.make=le.fit_transform(data.make)\n",
    "data.fuel_type=le.fit_transform(data.fuel_type)\n",
    "data.aspiration=le.fit_transform(data.aspiration)\n",
    "data.num_of_doors=le.fit_transform(data.num_of_doors)\n",
    "data.body_style=le.fit_transform(data.body_style)\n",
    "data.drive_wheels=le.fit_transform(data.drive_wheels)\n",
    "data.engine_location=le.fit_transform(data.engine_location)\n",
    "data.engine_type=le.fit_transform(data.engine_type)\n",
    "data.num_of_cylinders=le.fit_transform(data.num_of_cylinders)\n",
    "data.fuel_system=le.fit_transform(data.fuel_system)\n",
    "data.bore=le.fit_transform(data.bore)\n",
    "data.stroke=le.fit_transform(data.stroke)\n",
    "data.horsepower=le.fit_transform(data.horsepower)\n",
    "data.peak_rpm=le.fit_transform(data.peak_rpm)"
   ]
  },
  {
   "cell_type": "code",
   "execution_count": null,
   "id": "cb8d5118",
   "metadata": {},
   "outputs": [],
   "source": [
    "data"
   ]
  },
  {
   "cell_type": "code",
   "execution_count": null,
   "id": "aabc1545",
   "metadata": {},
   "outputs": [],
   "source": [
    "data.info()"
   ]
  },
  {
   "cell_type": "code",
   "execution_count": null,
   "id": "ac7b8929",
   "metadata": {},
   "outputs": [],
   "source": [
    "data['symboling']=data['symboling'].astype('int32')\n",
    "data['curb_weight']=data['curb_weight'].astype('int32')\n",
    "data['engine_size']=data['engine_size'].astype('int32')\n",
    "data['cit_mpg']=data['cit_mpg'].astype('int32')\n",
    "data['highway_mpg']=data['highway_mpg'].astype('int32')\n",
    "data['price']=data['price'].astype('int32')\n",
    "data['compression_ratio']=data['compression_ratio'].astype('int32')\n",
    "data['wheel_base']=data['wheel_base'].astype('float32')\n",
    "data['length']=data['length'].astype('float32')\n",
    "data['width']=data['width'].astype('float32')\n",
    "data['height']=data['height'].astype('float32')"
   ]
  },
  {
   "cell_type": "code",
   "execution_count": null,
   "id": "1b9e7609",
   "metadata": {},
   "outputs": [],
   "source": [
    "data.info()"
   ]
  },
  {
   "cell_type": "code",
   "execution_count": null,
   "id": "f7ac0984",
   "metadata": {},
   "outputs": [],
   "source": [
    "plt.figure(figsize=(10,155),facecolor='white')\n",
    "plotnumber=1\n",
    "for column in data.drop('price',axis=1) :\n",
    "    if plotnumber<=58:\n",
    "        ax=plt.subplot(29,2,plotnumber)\n",
    "        sns.boxplot(x=data[column])\n",
    "        plt.xlabel(column)\n",
    "        plt.ylabel('count')\n",
    "    plotnumber+=1\n",
    "plt.tight_layout() "
   ]
  },
  {
   "cell_type": "code",
   "execution_count": null,
   "id": "b4c7831f",
   "metadata": {},
   "outputs": [],
   "source": [
    "# Function to handle outliers\n",
    "def handle_outliers(data, column):\n",
    "    # Calculate Q1 and Q3\n",
    "    Q1 = data[column].quantile(0.25)\n",
    "    Q3 = data[column].quantile(0.75)\n",
    "    \n",
    "    # Calculate IQR\n",
    "    IQR = Q3 - Q1\n",
    "    \n",
    "    # Calculate lower and upper limits\n",
    "    lower_limit = Q1 - 1.5 * IQR\n",
    "    upper_limit = Q3 + 1.5 * IQR\n",
    "    \n",
    "    # Replace outlier values with the median\n",
    "    data.loc[data[column] > upper_limit, column] = data[column].median()\n",
    "    data.loc[data[column] < lower_limit, column] = data[column].median()\n",
    "\n",
    "# Iterate over the columns of the dataframe (excluding the 'target' column)\n",
    "for column in data.drop('price', axis=1).columns:\n",
    "    # Handle outliers for the current column\n",
    "    handle_outliers(data, column)\n"
   ]
  },
  {
   "cell_type": "code",
   "execution_count": null,
   "id": "803bd39a",
   "metadata": {},
   "outputs": [],
   "source": [
    "plt.figure(figsize=(10,155),facecolor='white')\n",
    "plotnumber=1\n",
    "for column in data.drop('price',axis=1) :\n",
    "    if plotnumber<=58:\n",
    "        ax=plt.subplot(29,2,plotnumber)\n",
    "        sns.boxplot(x=data[column])\n",
    "        plt.xlabel(column)\n",
    "        plt.ylabel('count')\n",
    "    plotnumber+=1\n",
    "plt.tight_layout()"
   ]
  },
  {
   "cell_type": "code",
   "execution_count": null,
   "id": "9f9af8a5",
   "metadata": {},
   "outputs": [],
   "source": [
    "# min max scaler     \n",
    "from sklearn.preprocessing import MinMaxScaler\n",
    "scaling=MinMaxScaler()\n",
    "df=[\"price\"]\n",
    "data1=scaling.fit_transform(data.drop(df,axis=1))"
   ]
  },
  {
   "cell_type": "code",
   "execution_count": null,
   "id": "ef708da1",
   "metadata": {},
   "outputs": [],
   "source": [
    "# to covert array to dataframe\n",
    "data2=pd.DataFrame(data1,columns=['symboling', 'normalized_losses', 'make', 'fuel_type', 'aspiration',\n",
    "       'num_of_doors', 'body_style', 'drive_wheels', 'engine_location',\n",
    "       'wheel_base', 'length', 'width', 'height', 'curb_weight', 'engine_type',\n",
    "       'num_of_cylinders', 'engine_size', 'fuel_system', 'bore', 'stroke',\n",
    "       'compression_ratio', 'horsepower', 'peak_rpm', 'cit_mpg', 'highway_mpg'])\n",
    "data2"
   ]
  },
  {
   "cell_type": "code",
   "execution_count": null,
   "id": "568f761f",
   "metadata": {},
   "outputs": [],
   "source": [
    "data.columns"
   ]
  },
  {
   "cell_type": "code",
   "execution_count": null,
   "id": "61771ffc",
   "metadata": {},
   "outputs": [],
   "source": [
    "df1=data[[\"price\"]]\n",
    "df1"
   ]
  },
  {
   "cell_type": "code",
   "execution_count": null,
   "id": "2b7b929d",
   "metadata": {},
   "outputs": [],
   "source": [
    "new_data=pd.concat([data2,df1],axis=1)\n",
    "new_data"
   ]
  },
  {
   "cell_type": "markdown",
   "id": "45aa5645",
   "metadata": {},
   "source": [
    "# Feature selection"
   ]
  },
  {
   "cell_type": "code",
   "execution_count": null,
   "id": "a5aab7f1",
   "metadata": {},
   "outputs": [],
   "source": [
    "plt.figure(figsize=(100,100))\n",
    "sns.heatmap(data.corr(),annot=True)"
   ]
  },
  {
   "cell_type": "code",
   "execution_count": null,
   "id": "a4ad99b6",
   "metadata": {},
   "outputs": [],
   "source": [
    "# both are showing high correlation so we are removing one of them  'cit_mpg','highway_mpg'"
   ]
  },
  {
   "cell_type": "code",
   "execution_count": null,
   "id": "67faed08",
   "metadata": {},
   "outputs": [],
   "source": [
    "data.drop('cit_mpg',axis=1,inplace=True)"
   ]
  },
  {
   "cell_type": "markdown",
   "id": "52fc7ef6",
   "metadata": {},
   "source": [
    "# Split the data into x and y"
   ]
  },
  {
   "cell_type": "code",
   "execution_count": null,
   "id": "f7993dd5",
   "metadata": {},
   "outputs": [],
   "source": [
    "x=data.iloc[:,:-1]\n",
    "y=data.price"
   ]
  },
  {
   "cell_type": "code",
   "execution_count": null,
   "id": "19c03736",
   "metadata": {},
   "outputs": [],
   "source": [
    "x"
   ]
  },
  {
   "cell_type": "code",
   "execution_count": null,
   "id": "be8cec77",
   "metadata": {},
   "outputs": [],
   "source": [
    "y"
   ]
  },
  {
   "cell_type": "code",
   "execution_count": null,
   "id": "38f1252f",
   "metadata": {},
   "outputs": [],
   "source": [
    "#spliting the data into training and testing\n",
    "from sklearn.model_selection import train_test_split\n",
    "x_train,x_test,y_train,y_test=train_test_split(x,y,test_size=0.25,random_state=79)"
   ]
  },
  {
   "cell_type": "code",
   "execution_count": null,
   "id": "5a477c05",
   "metadata": {},
   "outputs": [],
   "source": []
  },
  {
   "cell_type": "code",
   "execution_count": null,
   "id": "a3a74644",
   "metadata": {},
   "outputs": [],
   "source": [
    "y_test.shape"
   ]
  },
  {
   "cell_type": "code",
   "execution_count": null,
   "id": "debe6efe",
   "metadata": {},
   "outputs": [],
   "source": [
    "from sklearn.metrics import mean_squared_error,mean_absolute_error,r2_score"
   ]
  },
  {
   "cell_type": "markdown",
   "id": "4b8ab532",
   "metadata": {},
   "source": [
    "# LinearRegression"
   ]
  },
  {
   "cell_type": "code",
   "execution_count": null,
   "id": "a9260c4c",
   "metadata": {},
   "outputs": [],
   "source": [
    "#import linear regression\n",
    "from sklearn.linear_model import LinearRegression\n",
    "#initialise model\n",
    "model_lr=LinearRegression()\n",
    "#Train model with x_train and y_train\n",
    "model_lr.fit(x_train,y_train)"
   ]
  },
  {
   "cell_type": "code",
   "execution_count": null,
   "id": "da992654",
   "metadata": {},
   "outputs": [],
   "source": [
    "#make predictions test model \n",
    "y_pred_lr_test=model_lr.predict(x_test)\n",
    "y_pred_lr_train=model_lr.predict(x_train)"
   ]
  },
  {
   "cell_type": "code",
   "execution_count": null,
   "id": "07fb0ac1",
   "metadata": {},
   "outputs": [],
   "source": [
    "r2score_lr_train=r2_score(y_train,y_pred_lr_train)\n",
    "r2score_lr_train"
   ]
  },
  {
   "cell_type": "code",
   "execution_count": null,
   "id": "40e580d7",
   "metadata": {},
   "outputs": [],
   "source": [
    "r2score_lr_test=r2_score(y_test,y_pred_lr_test)\n",
    "r2score_lr_test"
   ]
  },
  {
   "cell_type": "code",
   "execution_count": null,
   "id": "7dc8c832",
   "metadata": {},
   "outputs": [],
   "source": [
    "adjr2_lr_train=1 - (1-r2score_lr_train)*(51-1)/(51-3-1)\n",
    "adjr2_lr_train"
   ]
  },
  {
   "cell_type": "code",
   "execution_count": null,
   "id": "c267e13b",
   "metadata": {},
   "outputs": [],
   "source": [
    "adjr2_lr_test=1 - (1-r2score_lr_test)*(51-1)/(51-3-1)\n",
    "adjr2_lr_test"
   ]
  },
  {
   "cell_type": "code",
   "execution_count": null,
   "id": "6d4393ad",
   "metadata": {},
   "outputs": [],
   "source": []
  },
  {
   "cell_type": "markdown",
   "id": "7a25a19a",
   "metadata": {},
   "source": [
    "# KNeighborsRegressor"
   ]
  },
  {
   "cell_type": "code",
   "execution_count": null,
   "id": "5554c3ce",
   "metadata": {},
   "outputs": [],
   "source": [
    "from sklearn.neighbors import KNeighborsRegressor\n",
    "#initialise model\n",
    "model_knn=KNeighborsRegressor()\n",
    "#Train model with x_train and y_train\n",
    "model_knn.fit(x_train,y_train)"
   ]
  },
  {
   "cell_type": "code",
   "execution_count": null,
   "id": "f892b211",
   "metadata": {},
   "outputs": [],
   "source": [
    "#make predictions test model \n",
    "y_pred_knn_test=model_knn.predict(x_test)\n",
    "y_pred_knn_train=model_knn.predict(x_train)"
   ]
  },
  {
   "cell_type": "code",
   "execution_count": null,
   "id": "64590f87",
   "metadata": {},
   "outputs": [],
   "source": [
    "r2score_knn_train=r2_score(y_train,y_pred_knn_train)\n",
    "r2score_knn_train"
   ]
  },
  {
   "cell_type": "code",
   "execution_count": null,
   "id": "3ac4130d",
   "metadata": {},
   "outputs": [],
   "source": [
    "r2score_knn_test=r2_score(y_test,y_pred_knn_test)\n",
    "r2score_knn_test"
   ]
  },
  {
   "cell_type": "code",
   "execution_count": null,
   "id": "35495e38",
   "metadata": {},
   "outputs": [],
   "source": [
    "adjr2_knn_train=1 - (1-r2score_knn_train)*(51-1)/(51-3-1)\n",
    "adjr2_knn_train"
   ]
  },
  {
   "cell_type": "code",
   "execution_count": null,
   "id": "9215f5b8",
   "metadata": {},
   "outputs": [],
   "source": [
    "adjr2_knn_test=1 - (1-r2score_knn_test)*(51-1)/(51-3-1)\n",
    "adjr2_knn_test"
   ]
  },
  {
   "cell_type": "markdown",
   "id": "e5e5031f",
   "metadata": {},
   "source": [
    "# SVM"
   ]
  },
  {
   "cell_type": "code",
   "execution_count": null,
   "id": "02db1d83",
   "metadata": {},
   "outputs": [],
   "source": [
    "from sklearn.svm import SVR\n",
    "#initialise model\n",
    "model_svr=SVR()\n",
    "#Train model with x_train and y_train\n",
    "model_svr.fit(x_train,y_train)"
   ]
  },
  {
   "cell_type": "code",
   "execution_count": null,
   "id": "8faaefaa",
   "metadata": {},
   "outputs": [],
   "source": [
    "#make predictions test model \n",
    "y_pred_svr_test=model_svr.predict(x_test)\n",
    "y_pred_svr_train=model_svr.predict(x_train)"
   ]
  },
  {
   "cell_type": "code",
   "execution_count": null,
   "id": "a6246fd1",
   "metadata": {},
   "outputs": [],
   "source": [
    "r2score_svr_train=r2_score(y_train,y_pred_svr_train)\n",
    "r2score_svr_train"
   ]
  },
  {
   "cell_type": "code",
   "execution_count": null,
   "id": "be8a0257",
   "metadata": {},
   "outputs": [],
   "source": [
    "r2score_svr_test=r2_score(y_test,y_pred_svr_test)\n",
    "r2score_svr_test"
   ]
  },
  {
   "cell_type": "code",
   "execution_count": null,
   "id": "c397c4a9",
   "metadata": {},
   "outputs": [],
   "source": [
    "adjr2_svr_train=1 - (1-r2score_svr_train)*(51-1)/(51-3-1)\n",
    "adjr2_svr_train"
   ]
  },
  {
   "cell_type": "code",
   "execution_count": null,
   "id": "b7359459",
   "metadata": {},
   "outputs": [],
   "source": [
    "adjr2_svr_test=1 - (1-r2score_svr_test)*(51-1)/(51-3-1)\n",
    "adjr2_svr_test"
   ]
  },
  {
   "cell_type": "markdown",
   "id": "35686707",
   "metadata": {},
   "source": [
    "# DecisionTreeRegressor"
   ]
  },
  {
   "cell_type": "code",
   "execution_count": null,
   "id": "6b337dcd",
   "metadata": {},
   "outputs": [],
   "source": [
    "from sklearn.tree import DecisionTreeRegressor\n",
    "#initialise model\n",
    "model_dt=DecisionTreeRegressor()\n",
    "#Train model with x_train and y_train\n",
    "model_dt.fit(x_train,y_train)"
   ]
  },
  {
   "cell_type": "code",
   "execution_count": null,
   "id": "76a026eb",
   "metadata": {},
   "outputs": [],
   "source": [
    "#make predictions test model \n",
    "y_pred_dt_test=model_dt.predict(x_test)\n",
    "y_pred_dt_train=model_dt.predict(x_train)"
   ]
  },
  {
   "cell_type": "code",
   "execution_count": null,
   "id": "d7089725",
   "metadata": {},
   "outputs": [],
   "source": [
    "r2score_dt_train=r2_score(y_train,y_pred_dt_train)\n",
    "r2score_dt_train"
   ]
  },
  {
   "cell_type": "code",
   "execution_count": null,
   "id": "509048bd",
   "metadata": {},
   "outputs": [],
   "source": [
    "r2score_dt_test=r2_score(y_test,y_pred_dt_test)\n",
    "r2score_dt_test"
   ]
  },
  {
   "cell_type": "code",
   "execution_count": null,
   "id": "ff86298a",
   "metadata": {},
   "outputs": [],
   "source": [
    "adjr2_dt_train=1 - (1-r2score_dt_train)*(51-1)/(51-3-1)\n",
    "adjr2_dt_train"
   ]
  },
  {
   "cell_type": "code",
   "execution_count": null,
   "id": "dda553d0",
   "metadata": {},
   "outputs": [],
   "source": [
    "adjr2_dt_test=1 - (1-r2score_dt_test)*(51-1)/(51-3-1)\n",
    "adjr2_dt_test"
   ]
  },
  {
   "cell_type": "markdown",
   "id": "1a390690",
   "metadata": {},
   "source": [
    "# RandomForestRegressor"
   ]
  },
  {
   "cell_type": "code",
   "execution_count": null,
   "id": "44884582",
   "metadata": {},
   "outputs": [],
   "source": [
    "from sklearn.ensemble import RandomForestRegressor\n",
    "#initialise model\n",
    "model_rfr=RandomForestRegressor(n_estimators=500)\n",
    "#Train model with x_train and y_train\n",
    "model_rfr.fit(x_train,y_train)"
   ]
  },
  {
   "cell_type": "code",
   "execution_count": null,
   "id": "77c10bdf",
   "metadata": {},
   "outputs": [],
   "source": [
    "#make predictions test model \n",
    "y_pred_rfr_test=model_rfr.predict(x_test)\n",
    "y_pred_rfr_train=model_rfr.predict(x_train)"
   ]
  },
  {
   "cell_type": "code",
   "execution_count": null,
   "id": "12a41c5a",
   "metadata": {},
   "outputs": [],
   "source": [
    "r2score_rfr_train=r2_score(y_train,y_pred_rfr_train)\n",
    "r2score_rfr_train"
   ]
  },
  {
   "cell_type": "code",
   "execution_count": null,
   "id": "028b949b",
   "metadata": {},
   "outputs": [],
   "source": [
    "r2score_rfr_test=r2_score(y_test,y_pred_rfr_test)\n",
    "r2score_rfr_test"
   ]
  },
  {
   "cell_type": "code",
   "execution_count": null,
   "id": "2181cea7",
   "metadata": {},
   "outputs": [],
   "source": [
    "adjr2_rfr_train=1 - (1-r2score_rfr_train)*(51-1)/(51-3-1)\n",
    "adjr2_rfr_train"
   ]
  },
  {
   "cell_type": "code",
   "execution_count": null,
   "id": "5645564b",
   "metadata": {},
   "outputs": [],
   "source": [
    "adjr2_rfr_test=1 - (1-r2score_rfr_test)*(51-1)/(51-3-1)\n",
    "adjr2_rfr_test"
   ]
  },
  {
   "cell_type": "markdown",
   "id": "ae195c1c",
   "metadata": {},
   "source": [
    "# ANN"
   ]
  },
  {
   "cell_type": "code",
   "execution_count": null,
   "id": "b731b0b4",
   "metadata": {},
   "outputs": [],
   "source": [
    "# model Creation\n",
    "from sklearn.neural_network import MLPRegressor\n",
    "model_ann=MLPRegressor(hidden_layer_sizes=(50,3),\n",
    "                   learning_rate_init=0.1,\n",
    "                   max_iter=500,random_state=2)\n",
    "model_ann.fit(x_train,y_train)\n",
    "y_pred_ann_train=model_ann.predict(x_train)\n",
    "y_pred_ann_test=model_ann.predict(x_test)"
   ]
  },
  {
   "cell_type": "code",
   "execution_count": null,
   "id": "b077bff3",
   "metadata": {},
   "outputs": [],
   "source": [
    "r2score_ann_train=r2_score(y_train,y_pred_ann_train)\n",
    "r2score_ann_train"
   ]
  },
  {
   "cell_type": "code",
   "execution_count": null,
   "id": "68098b52",
   "metadata": {},
   "outputs": [],
   "source": [
    "r2score_ann_test=r2_score(y_test,y_pred_ann_test)\n",
    "r2score_ann_test"
   ]
  },
  {
   "cell_type": "code",
   "execution_count": null,
   "id": "14bacfac",
   "metadata": {},
   "outputs": [],
   "source": [
    "adjr2_ann_train=1 - (1-r2score_ann_train)*(51-1)/(51-3-1)\n",
    "adjr2_ann_train"
   ]
  },
  {
   "cell_type": "code",
   "execution_count": null,
   "id": "ab132128",
   "metadata": {},
   "outputs": [],
   "source": [
    "adjr2_ann_test=1 - (1-r2score_ann_test)*(51-1)/(51-3-1)\n",
    "adjr2_ann_test"
   ]
  },
  {
   "cell_type": "markdown",
   "id": "57260c08",
   "metadata": {},
   "source": [
    "# ADA boost"
   ]
  },
  {
   "cell_type": "code",
   "execution_count": null,
   "id": "d2748f9f",
   "metadata": {},
   "outputs": [],
   "source": [
    "from sklearn.ensemble import AdaBoostRegressor\n",
    "model_ad=AdaBoostRegressor()\n",
    "model_ad.fit(x_train,y_train)"
   ]
  },
  {
   "cell_type": "code",
   "execution_count": null,
   "id": "baa5534b",
   "metadata": {},
   "outputs": [],
   "source": [
    "y_pred_ada_train=model_ad.predict(x_train)\n",
    "y_pred_ada_test=model_ad.predict(x_test)"
   ]
  },
  {
   "cell_type": "code",
   "execution_count": null,
   "id": "25a104e1",
   "metadata": {},
   "outputs": [],
   "source": [
    "r2score_ada_train=r2_score(y_train,y_pred_ada_train)\n",
    "r2score_ada_train"
   ]
  },
  {
   "cell_type": "code",
   "execution_count": null,
   "id": "b539f59e",
   "metadata": {},
   "outputs": [],
   "source": [
    "r2score_ada_test=r2_score(y_test,y_pred_ada_test)\n",
    "r2score_ada_test"
   ]
  },
  {
   "cell_type": "code",
   "execution_count": null,
   "id": "1c9a0cd9",
   "metadata": {},
   "outputs": [],
   "source": [
    "adjr2_ada_train=1 - (1-r2score_ada_train)*(51-1)/(51-3-1)\n",
    "adjr2_ada_train"
   ]
  },
  {
   "cell_type": "code",
   "execution_count": null,
   "id": "74eedfb6",
   "metadata": {},
   "outputs": [],
   "source": [
    "adjr2_ada_test=1 - (1-r2score_ada_test)*(51-1)/(51-3-1)\n",
    "adjr2_ada_test"
   ]
  },
  {
   "cell_type": "markdown",
   "id": "ecf5e34a",
   "metadata": {},
   "source": [
    "# GradientBoostingRegressor"
   ]
  },
  {
   "cell_type": "code",
   "execution_count": null,
   "id": "8af3cc08",
   "metadata": {},
   "outputs": [],
   "source": [
    "from sklearn.ensemble import GradientBoostingRegressor\n",
    "model_gb=GradientBoostingRegressor()\n",
    "model_gb.fit(x_train,y_train)"
   ]
  },
  {
   "cell_type": "code",
   "execution_count": null,
   "id": "ebe37f6d",
   "metadata": {},
   "outputs": [],
   "source": [
    "y_pred_gbr_train=model_gb.predict(x_train)\n",
    "y_pred_gbr_test=model_gb.predict(x_test)"
   ]
  },
  {
   "cell_type": "code",
   "execution_count": null,
   "id": "8ee7b550",
   "metadata": {},
   "outputs": [],
   "source": [
    "r2score_gbr_train=r2_score(y_train,y_pred_gbr_train)\n",
    "r2score_gbr_train"
   ]
  },
  {
   "cell_type": "code",
   "execution_count": null,
   "id": "79163b4d",
   "metadata": {},
   "outputs": [],
   "source": [
    "r2score_gbr_test=r2_score(y_test,y_pred_gbr_test)\n",
    "r2score_gbr_test"
   ]
  },
  {
   "cell_type": "code",
   "execution_count": null,
   "id": "0c7193ab",
   "metadata": {},
   "outputs": [],
   "source": [
    "adjr2_gbr_train=1 - (1-r2score_gbr_train)*(51-1)/(51-3-1)\n",
    "adjr2_gbr_train"
   ]
  },
  {
   "cell_type": "code",
   "execution_count": null,
   "id": "2a337259",
   "metadata": {},
   "outputs": [],
   "source": [
    "adjr2_gbr_test=1 - (1-r2score_gbr_test)*(51-1)/(51-3-1)\n",
    "adjr2_gbr_test"
   ]
  },
  {
   "cell_type": "code",
   "execution_count": null,
   "id": "738b5be4",
   "metadata": {},
   "outputs": [],
   "source": []
  },
  {
   "cell_type": "markdown",
   "id": "edb86bcf",
   "metadata": {},
   "source": [
    "# XGBRegressor"
   ]
  },
  {
   "cell_type": "code",
   "execution_count": null,
   "id": "d368c766",
   "metadata": {},
   "outputs": [],
   "source": [
    "from xgboost import XGBRegressor\n",
    "model_xg=XGBRegressor(n_estimators=500)\n",
    "model_xg.fit(x_train,y_train)"
   ]
  },
  {
   "cell_type": "code",
   "execution_count": null,
   "id": "f14d286c",
   "metadata": {},
   "outputs": [],
   "source": [
    "y_pred_xgbr_train=model_xg.predict(x_train)\n",
    "y_pred_xgbr_test=model_xg.predict(x_test)"
   ]
  },
  {
   "cell_type": "code",
   "execution_count": null,
   "id": "84a18619",
   "metadata": {},
   "outputs": [],
   "source": [
    "r2score_xgbr_train=r2_score(y_train,y_pred_xgbr_train)\n",
    "r2score_xgbr_train"
   ]
  },
  {
   "cell_type": "code",
   "execution_count": null,
   "id": "8298cb9e",
   "metadata": {},
   "outputs": [],
   "source": [
    "r2score_xgbr_test=r2_score(y_test,y_pred_xgbr_test)\n",
    "r2score_xgbr_test"
   ]
  },
  {
   "cell_type": "code",
   "execution_count": null,
   "id": "1e888eec",
   "metadata": {},
   "outputs": [],
   "source": [
    "adjr2_xgbr_train=1 - (1-r2score_xgbr_train)*(51-1)/(51-3-1)\n",
    "adjr2_xgbr_train"
   ]
  },
  {
   "cell_type": "code",
   "execution_count": null,
   "id": "058cf6db",
   "metadata": {},
   "outputs": [],
   "source": [
    "adjr2_xgbr_test=1 - (1-r2score_xgbr_test)*(51-1)/(51-3-1)\n",
    "adjr2_xgbr_test"
   ]
  },
  {
   "cell_type": "markdown",
   "id": "e07e738f",
   "metadata": {},
   "source": [
    "# Ada Boost\n",
    "* it is giving good accuracy and the model is not overfitting"
   ]
  },
  {
   "cell_type": "markdown",
   "id": "c89ff407",
   "metadata": {},
   "source": [
    "# Cross validation"
   ]
  },
  {
   "cell_type": "code",
   "execution_count": null,
   "id": "01b1fd3a",
   "metadata": {},
   "outputs": [],
   "source": [
    "from sklearn.model_selection import cross_val_score\n",
    "score=cross_val_score(model_ad,x,y,cv=5,scoring='r2')\n",
    "print(score)\n",
    "print('cross validation score:',score.mean())\n",
    "print('std:',score.std())\n",
    "# std<0.05  is good model\n"
   ]
  },
  {
   "cell_type": "markdown",
   "id": "9f084aab",
   "metadata": {},
   "source": [
    "we have to tuned our model because std>0.5"
   ]
  },
  {
   "cell_type": "markdown",
   "id": "759273f1",
   "metadata": {},
   "source": [
    "# Hyperparameter tuning"
   ]
  },
  {
   "cell_type": "code",
   "execution_count": null,
   "id": "fd9ca0af",
   "metadata": {},
   "outputs": [],
   "source": [
    "from sklearn.model_selection import GridSearchCV\n",
    "from sklearn.tree import DecisionTreeRegressor\n",
    "from sklearn.ensemble import AdaBoostRegressor\n",
    "\n",
    "# Define the base estimator and its hyperparameter grid\n",
    "base_estimator = [DecisionTreeRegressor(max_depth=depth) for depth in [1, 2, 3]]\n",
    "\n",
    "# Define the hyperparameter grid for AdaBoostRegressor\n",
    "param_grid = {\n",
    "    'base_estimator': base_estimator,\n",
    "    'n_estimators': [50, 100, 200],\n",
    "    'learning_rate': [0.01, 0.1, 0.5, 1.0],\n",
    "    'loss': ['linear', 'square', 'exponential'],\n",
    "    'random_state': [None],\n",
    "}\n",
    "\n",
    "# Create AdaBoostRegressor object\n",
    "model_ad = AdaBoostRegressor()\n",
    "\n",
    "# Create GridSearchCV object\n",
    "grid_search = GridSearchCV(model_ad, param_grid, verbose=1, cv=5, scoring='r2')\n",
    "\n",
    "# Fit the grid search to your training data\n",
    "grid_search.fit(x_train, y_train)\n",
    "\n",
    "# Retrieve the best hyperparameters\n",
    "best_params = grid_search.best_params_\n",
    "print(\"Best Hyperparameters:\", best_params)"
   ]
  },
  {
   "cell_type": "code",
   "execution_count": null,
   "id": "28b5100e",
   "metadata": {},
   "outputs": [],
   "source": [
    "print(grid_search.best_estimator_)"
   ]
  },
  {
   "cell_type": "code",
   "execution_count": null,
   "id": "980e3672",
   "metadata": {},
   "outputs": [],
   "source": [
    "tuned_model=AdaBoostRegressor(base_estimator=DecisionTreeRegressor(max_depth=3),\n",
    "                  learning_rate=0.5, n_estimators=200)"
   ]
  },
  {
   "cell_type": "code",
   "execution_count": null,
   "id": "c6926483",
   "metadata": {},
   "outputs": [],
   "source": [
    "tuned_model.fit(x_train,y_train)"
   ]
  },
  {
   "cell_type": "code",
   "execution_count": null,
   "id": "fcfc8e44",
   "metadata": {},
   "outputs": [],
   "source": [
    "tuned_ypred_train=tuned_model.predict(x_train)"
   ]
  },
  {
   "cell_type": "code",
   "execution_count": null,
   "id": "2c039e57",
   "metadata": {},
   "outputs": [],
   "source": [
    "tuned_ypred_test=tuned_model.predict(x_test)"
   ]
  },
  {
   "cell_type": "code",
   "execution_count": null,
   "id": "0e8d7db7",
   "metadata": {},
   "outputs": [],
   "source": [
    "r2score_tuned_ad_train=r2_score(y_train,tuned_ypred_train)\n",
    "r2score_tuned_ad_train"
   ]
  },
  {
   "cell_type": "code",
   "execution_count": null,
   "id": "a351e459",
   "metadata": {},
   "outputs": [],
   "source": [
    "r2score_tuned_ad_test=r2_score(y_test,tuned_ypred_test)\n",
    "r2score_tuned_ad_test"
   ]
  },
  {
   "cell_type": "code",
   "execution_count": null,
   "id": "9cb06513",
   "metadata": {},
   "outputs": [],
   "source": [
    "adjr2_tuned_ad_train=1 - (1-r2score_tuned_ad_train)*(51-1)/(51-3-1)\n",
    "adjr2_tuned_ad_train"
   ]
  },
  {
   "cell_type": "code",
   "execution_count": null,
   "id": "aa98eead",
   "metadata": {},
   "outputs": [],
   "source": [
    "adjr2_tuned_ad_test=1 - (1-r2score_tuned_ad_test)*(51-1)/(51-3-1)\n",
    "adjr2_tuned_ad_test"
   ]
  },
  {
   "cell_type": "code",
   "execution_count": null,
   "id": "b8ee05a4",
   "metadata": {},
   "outputs": [],
   "source": []
  },
  {
   "cell_type": "code",
   "execution_count": null,
   "id": "bad22484",
   "metadata": {},
   "outputs": [],
   "source": [
    "from sklearn.model_selection import cross_val_score\n",
    "score=cross_val_score(tuned_model,x,y,cv=5,scoring='r2')\n",
    "print(score)\n",
    "print('cross validation score:',score.mean())\n",
    "print('std:',score.std())\n",
    "# std<0.05  is good model"
   ]
  },
  {
   "cell_type": "markdown",
   "id": "55b54707",
   "metadata": {},
   "source": [
    "now our model is good "
   ]
  },
  {
   "cell_type": "markdown",
   "id": "3db73e6f",
   "metadata": {},
   "source": [
    "# Model Comparison Report\n",
    "\n",
    "\n",
    "\n",
    "## 1. Linear  Regression (LR):\n",
    "* R2score: i)train:0.7798459608648948, ii)test:0.601329833181166\n",
    "* AdjR2score : i)train:0.7657935753881859 , ii)test:0.5758828012565596\n",
    "\n",
    "## 2. KNeighborsRegressor(KNN):\n",
    "* R2score: i)train:0.7819949751671298 , ii)test:0.6536393829529965\n",
    "* AdjR2score : i)train:0.7680797608160955 , ii)test:0.6315312584606345\n",
    "\n",
    "## 3. Support Vector Machine(SVM):\n",
    "* R2score: i)train:-0.13684790129269575 , ii)test:-0.12433027577369793\n",
    "* AdjR2score : i)train:-0.20941266094967625 , ii)test:-0.1960960380571255\n",
    "\n",
    "## 4. DecisionTreeRegressor(DT):\n",
    "* R2score: i)train:0.9998280871686882 , ii)test:0.7694389954296036\n",
    "* AdjR2score : i)train:0.9998171140092428 , ii)test:0.7547223355634081\n",
    "\n",
    "## 5. RandomForestRegressor(RF):\n",
    "* Accuracy: i)train:0.7796773810563855 , ii)test:0.7815165016834338\n",
    "* R2score: i)train:0.9785949476226359, ii)test:0.8576476754324627\n",
    "* AdjR2score : i)train:0.9772286676836552 , ii)test:0.8485613568430455\n",
    "\n",
    "## 6. Artificial Neural Networks (ANN):\n",
    "* R2score: i)train:0.8583348571166323, ii)test:0.7224852768941522\n",
    "* AdjR2score : i)train:0.8492924011879066 , ii)test:0.7047715711639917\n",
    "\n",
    "## 7. GradientBoostingRegressor:\n",
    "* R2score: i)train:0.9948387439963965 , ii)test:0.0.9005166068348307\n",
    "* AdjR2score : i)train:0.994509302123826 , ii)test:0.8941666030157773\n",
    "\n",
    "## 8. XGBRegressor:\n",
    "* R2score: i)train:0.9998280871685015 , ii)test:0.8803152091279323\n",
    "* AdjR2score : i)train:0.9998171140090442 , ii)test:0.8726757543914173\n",
    "\n",
    "## 9.ADA boost:\n",
    "* R2score: i)train :0.9458924918154202, ii)test:0.9198053535354876\n",
    "* AdjR2score : i)train:0.9424388210802342 , ii)test:0.9146865463143485\n",
    "###  Adaboost is giving good adjuctr2score at compare to all the algorithm so final algorithm is adaboost\n",
    "\n",
    "\n",
    "\n",
    "\n",
    "# Conclusion\n",
    " ### Automated car price prediction systems revolutionize the automotive market by offering efficiency, accuracy, and transparency to buyers and sellers, shaping informed decision-making processes and fostering fair pricing practices.\n",
    "\n",
    "\n",
    "\n",
    "\n",
    "\n",
    " "
   ]
  },
  {
   "cell_type": "code",
   "execution_count": null,
   "id": "3c3878e1",
   "metadata": {},
   "outputs": [],
   "source": []
  },
  {
   "cell_type": "code",
   "execution_count": null,
   "id": "4a5f61df",
   "metadata": {},
   "outputs": [],
   "source": []
  },
  {
   "cell_type": "code",
   "execution_count": null,
   "id": "a658ba93",
   "metadata": {},
   "outputs": [],
   "source": []
  },
  {
   "cell_type": "code",
   "execution_count": null,
   "id": "7a7fcbb8",
   "metadata": {},
   "outputs": [],
   "source": []
  },
  {
   "cell_type": "code",
   "execution_count": null,
   "id": "9278dbd6",
   "metadata": {},
   "outputs": [],
   "source": []
  },
  {
   "cell_type": "code",
   "execution_count": null,
   "id": "3a9d1350",
   "metadata": {},
   "outputs": [],
   "source": []
  },
  {
   "cell_type": "code",
   "execution_count": null,
   "id": "29b5da1f",
   "metadata": {},
   "outputs": [],
   "source": []
  },
  {
   "cell_type": "code",
   "execution_count": null,
   "id": "6cf53820",
   "metadata": {},
   "outputs": [],
   "source": []
  },
  {
   "cell_type": "code",
   "execution_count": null,
   "id": "87287c83",
   "metadata": {},
   "outputs": [],
   "source": []
  },
  {
   "cell_type": "code",
   "execution_count": null,
   "id": "20e6b703",
   "metadata": {},
   "outputs": [],
   "source": []
  }
 ],
 "metadata": {
  "kernelspec": {
   "display_name": "Python 3 (ipykernel)",
   "language": "python",
   "name": "python3"
  },
  "language_info": {
   "codemirror_mode": {
    "name": "ipython",
    "version": 3
   },
   "file_extension": ".py",
   "mimetype": "text/x-python",
   "name": "python",
   "nbconvert_exporter": "python",
   "pygments_lexer": "ipython3",
   "version": "3.11.5"
  }
 },
 "nbformat": 4,
 "nbformat_minor": 5
}
